{
 "cells": [
  {
   "cell_type": "markdown",
   "metadata": {},
   "source": [
    "## Prepare a prediction model for profit of 50_startups data.Do transformations for getting better predictions of profit and make a table containing R^2 value for each prepared model."
   ]
  },
  {
   "cell_type": "code",
   "execution_count": null,
   "metadata": {},
   "outputs": [],
   "source": []
  },
  {
   "cell_type": "markdown",
   "metadata": {},
   "source": [
    "### Load the Libraries"
   ]
  },
  {
   "cell_type": "code",
   "execution_count": 1,
   "metadata": {},
   "outputs": [],
   "source": [
    "import numpy as np\n",
    "import pandas as pd\n",
    "import matplotlib.pyplot as plt\n",
    "import seaborn as sns"
   ]
  },
  {
   "cell_type": "code",
   "execution_count": 2,
   "metadata": {},
   "outputs": [],
   "source": [
    "import warnings\n",
    "warnings.filterwarnings('ignore')"
   ]
  },
  {
   "cell_type": "markdown",
   "metadata": {},
   "source": [
    "### Importing the Dataset"
   ]
  },
  {
   "cell_type": "code",
   "execution_count": 3,
   "metadata": {},
   "outputs": [
    {
     "data": {
      "text/html": [
       "<div>\n",
       "<style scoped>\n",
       "    .dataframe tbody tr th:only-of-type {\n",
       "        vertical-align: middle;\n",
       "    }\n",
       "\n",
       "    .dataframe tbody tr th {\n",
       "        vertical-align: top;\n",
       "    }\n",
       "\n",
       "    .dataframe thead th {\n",
       "        text-align: right;\n",
       "    }\n",
       "</style>\n",
       "<table border=\"1\" class=\"dataframe\">\n",
       "  <thead>\n",
       "    <tr style=\"text-align: right;\">\n",
       "      <th></th>\n",
       "      <th>R&amp;D Spend</th>\n",
       "      <th>Administration</th>\n",
       "      <th>Marketing Spend</th>\n",
       "      <th>State</th>\n",
       "      <th>Profit</th>\n",
       "    </tr>\n",
       "  </thead>\n",
       "  <tbody>\n",
       "    <tr>\n",
       "      <th>0</th>\n",
       "      <td>165349.20</td>\n",
       "      <td>136897.80</td>\n",
       "      <td>471784.10</td>\n",
       "      <td>New York</td>\n",
       "      <td>192261.83</td>\n",
       "    </tr>\n",
       "    <tr>\n",
       "      <th>1</th>\n",
       "      <td>162597.70</td>\n",
       "      <td>151377.59</td>\n",
       "      <td>443898.53</td>\n",
       "      <td>California</td>\n",
       "      <td>191792.06</td>\n",
       "    </tr>\n",
       "    <tr>\n",
       "      <th>2</th>\n",
       "      <td>153441.51</td>\n",
       "      <td>101145.55</td>\n",
       "      <td>407934.54</td>\n",
       "      <td>Florida</td>\n",
       "      <td>191050.39</td>\n",
       "    </tr>\n",
       "    <tr>\n",
       "      <th>3</th>\n",
       "      <td>144372.41</td>\n",
       "      <td>118671.85</td>\n",
       "      <td>383199.62</td>\n",
       "      <td>New York</td>\n",
       "      <td>182901.99</td>\n",
       "    </tr>\n",
       "    <tr>\n",
       "      <th>4</th>\n",
       "      <td>142107.34</td>\n",
       "      <td>91391.77</td>\n",
       "      <td>366168.42</td>\n",
       "      <td>Florida</td>\n",
       "      <td>166187.94</td>\n",
       "    </tr>\n",
       "  </tbody>\n",
       "</table>\n",
       "</div>"
      ],
      "text/plain": [
       "   R&D Spend  Administration  Marketing Spend       State     Profit\n",
       "0  165349.20       136897.80        471784.10    New York  192261.83\n",
       "1  162597.70       151377.59        443898.53  California  191792.06\n",
       "2  153441.51       101145.55        407934.54     Florida  191050.39\n",
       "3  144372.41       118671.85        383199.62    New York  182901.99\n",
       "4  142107.34        91391.77        366168.42     Florida  166187.94"
      ]
     },
     "execution_count": 3,
     "metadata": {},
     "output_type": "execute_result"
    }
   ],
   "source": [
    "#Read the data\n",
    "data = pd.read_csv('50_Startups.csv')\n",
    "data.head()"
   ]
  },
  {
   "cell_type": "code",
   "execution_count": null,
   "metadata": {},
   "outputs": [],
   "source": []
  },
  {
   "cell_type": "markdown",
   "metadata": {},
   "source": [
    "# EDA(Explotary data analysis)"
   ]
  },
  {
   "cell_type": "code",
   "execution_count": 4,
   "metadata": {
    "scrolled": true
   },
   "outputs": [
    {
     "data": {
      "text/plain": [
       "(50, 5)"
      ]
     },
     "execution_count": 4,
     "metadata": {},
     "output_type": "execute_result"
    }
   ],
   "source": [
    "#Data Structure\n",
    "data.shape"
   ]
  },
  {
   "cell_type": "code",
   "execution_count": null,
   "metadata": {},
   "outputs": [],
   "source": []
  },
  {
   "cell_type": "code",
   "execution_count": 5,
   "metadata": {},
   "outputs": [
    {
     "data": {
      "text/html": [
       "<div>\n",
       "<style scoped>\n",
       "    .dataframe tbody tr th:only-of-type {\n",
       "        vertical-align: middle;\n",
       "    }\n",
       "\n",
       "    .dataframe tbody tr th {\n",
       "        vertical-align: top;\n",
       "    }\n",
       "\n",
       "    .dataframe thead th {\n",
       "        text-align: right;\n",
       "    }\n",
       "</style>\n",
       "<table border=\"1\" class=\"dataframe\">\n",
       "  <thead>\n",
       "    <tr style=\"text-align: right;\">\n",
       "      <th></th>\n",
       "      <th>R&amp;D Spend</th>\n",
       "      <th>Administration</th>\n",
       "      <th>Marketing Spend</th>\n",
       "      <th>Profit</th>\n",
       "    </tr>\n",
       "  </thead>\n",
       "  <tbody>\n",
       "    <tr>\n",
       "      <th>count</th>\n",
       "      <td>50.000000</td>\n",
       "      <td>50.000000</td>\n",
       "      <td>50.000000</td>\n",
       "      <td>50.000000</td>\n",
       "    </tr>\n",
       "    <tr>\n",
       "      <th>mean</th>\n",
       "      <td>73721.615600</td>\n",
       "      <td>121344.639600</td>\n",
       "      <td>211025.097800</td>\n",
       "      <td>112012.639200</td>\n",
       "    </tr>\n",
       "    <tr>\n",
       "      <th>std</th>\n",
       "      <td>45902.256482</td>\n",
       "      <td>28017.802755</td>\n",
       "      <td>122290.310726</td>\n",
       "      <td>40306.180338</td>\n",
       "    </tr>\n",
       "    <tr>\n",
       "      <th>min</th>\n",
       "      <td>0.000000</td>\n",
       "      <td>51283.140000</td>\n",
       "      <td>0.000000</td>\n",
       "      <td>14681.400000</td>\n",
       "    </tr>\n",
       "    <tr>\n",
       "      <th>25%</th>\n",
       "      <td>39936.370000</td>\n",
       "      <td>103730.875000</td>\n",
       "      <td>129300.132500</td>\n",
       "      <td>90138.902500</td>\n",
       "    </tr>\n",
       "    <tr>\n",
       "      <th>50%</th>\n",
       "      <td>73051.080000</td>\n",
       "      <td>122699.795000</td>\n",
       "      <td>212716.240000</td>\n",
       "      <td>107978.190000</td>\n",
       "    </tr>\n",
       "    <tr>\n",
       "      <th>75%</th>\n",
       "      <td>101602.800000</td>\n",
       "      <td>144842.180000</td>\n",
       "      <td>299469.085000</td>\n",
       "      <td>139765.977500</td>\n",
       "    </tr>\n",
       "    <tr>\n",
       "      <th>max</th>\n",
       "      <td>165349.200000</td>\n",
       "      <td>182645.560000</td>\n",
       "      <td>471784.100000</td>\n",
       "      <td>192261.830000</td>\n",
       "    </tr>\n",
       "  </tbody>\n",
       "</table>\n",
       "</div>"
      ],
      "text/plain": [
       "           R&D Spend  Administration  Marketing Spend         Profit\n",
       "count      50.000000       50.000000        50.000000      50.000000\n",
       "mean    73721.615600   121344.639600    211025.097800  112012.639200\n",
       "std     45902.256482    28017.802755    122290.310726   40306.180338\n",
       "min         0.000000    51283.140000         0.000000   14681.400000\n",
       "25%     39936.370000   103730.875000    129300.132500   90138.902500\n",
       "50%     73051.080000   122699.795000    212716.240000  107978.190000\n",
       "75%    101602.800000   144842.180000    299469.085000  139765.977500\n",
       "max    165349.200000   182645.560000    471784.100000  192261.830000"
      ]
     },
     "execution_count": 5,
     "metadata": {},
     "output_type": "execute_result"
    }
   ],
   "source": [
    "data.describe()"
   ]
  },
  {
   "cell_type": "code",
   "execution_count": null,
   "metadata": {},
   "outputs": [],
   "source": []
  },
  {
   "cell_type": "markdown",
   "metadata": {},
   "source": [
    "### To check for non null values and data type"
   ]
  },
  {
   "cell_type": "code",
   "execution_count": 6,
   "metadata": {},
   "outputs": [
    {
     "name": "stdout",
     "output_type": "stream",
     "text": [
      "<class 'pandas.core.frame.DataFrame'>\n",
      "RangeIndex: 50 entries, 0 to 49\n",
      "Data columns (total 5 columns):\n",
      " #   Column           Non-Null Count  Dtype  \n",
      "---  ------           --------------  -----  \n",
      " 0   R&D Spend        50 non-null     float64\n",
      " 1   Administration   50 non-null     float64\n",
      " 2   Marketing Spend  50 non-null     float64\n",
      " 3   State            50 non-null     object \n",
      " 4   Profit           50 non-null     float64\n",
      "dtypes: float64(4), object(1)\n",
      "memory usage: 2.1+ KB\n"
     ]
    }
   ],
   "source": [
    "data.info() #no-null values"
   ]
  },
  {
   "cell_type": "code",
   "execution_count": 7,
   "metadata": {
    "scrolled": true
   },
   "outputs": [
    {
     "data": {
      "text/plain": [
       "R&D Spend          0\n",
       "Administration     0\n",
       "Marketing Spend    0\n",
       "State              0\n",
       "Profit             0\n",
       "dtype: int64"
      ]
     },
     "execution_count": 7,
     "metadata": {},
     "output_type": "execute_result"
    }
   ],
   "source": [
    "data.isna().sum()"
   ]
  },
  {
   "cell_type": "code",
   "execution_count": null,
   "metadata": {},
   "outputs": [],
   "source": []
  },
  {
   "cell_type": "markdown",
   "metadata": {},
   "source": [
    "### Duplicates"
   ]
  },
  {
   "cell_type": "code",
   "execution_count": 8,
   "metadata": {},
   "outputs": [
    {
     "data": {
      "text/plain": [
       "(0, 5)"
      ]
     },
     "execution_count": 8,
     "metadata": {},
     "output_type": "execute_result"
    }
   ],
   "source": [
    "#Count of duplicated rows\n",
    "data[data.duplicated()].shape\n",
    "# No dulicate in 5 column"
   ]
  },
  {
   "cell_type": "code",
   "execution_count": null,
   "metadata": {},
   "outputs": [],
   "source": []
  },
  {
   "cell_type": "markdown",
   "metadata": {},
   "source": [
    "### Outliers"
   ]
  },
  {
   "cell_type": "code",
   "execution_count": 9,
   "metadata": {},
   "outputs": [
    {
     "data": {
      "image/png": "[encoded data removed]",
      "text/plain": [
       "<Figure size 432x288 with 4 Axes>"
      ]
     },
     "metadata": {
      "needs_background": "light"
     },
     "output_type": "display_data"
    }
   ],
   "source": [
    "data.plot(kind='box', subplots=True, sharex=False, sharey=False)\n",
    "plt.show()"
   ]
  },
  {
   "cell_type": "code",
   "execution_count": null,
   "metadata": {},
   "outputs": [],
   "source": []
  },
  {
   "cell_type": "markdown",
   "metadata": {},
   "source": [
    "### Data type conversion"
   ]
  },
  {
   "cell_type": "code",
   "execution_count": 10,
   "metadata": {},
   "outputs": [
    {
     "name": "stdout",
     "output_type": "stream",
     "text": [
      "<class 'pandas.core.frame.DataFrame'>\n",
      "RangeIndex: 50 entries, 0 to 49\n",
      "Data columns (total 5 columns):\n",
      " #   Column           Non-Null Count  Dtype   \n",
      "---  ------           --------------  -----   \n",
      " 0   R&D Spend        50 non-null     float64 \n",
      " 1   Administration   50 non-null     float64 \n",
      " 2   Marketing Spend  50 non-null     float64 \n",
      " 3   State            50 non-null     category\n",
      " 4   Profit           50 non-null     float64 \n",
      "dtypes: category(1), float64(4)\n",
      "memory usage: 1.8 KB\n"
     ]
    }
   ],
   "source": [
    "data['State']=data['State'].astype('category')      \n",
    "data.info()"
   ]
  },
  {
   "cell_type": "code",
   "execution_count": null,
   "metadata": {},
   "outputs": [],
   "source": []
  },
  {
   "cell_type": "code",
   "execution_count": 11,
   "metadata": {},
   "outputs": [
    {
     "data": {
      "text/plain": [
       "New York      17\n",
       "California    17\n",
       "Florida       16\n",
       "Name: State, dtype: int64"
      ]
     },
     "execution_count": 11,
     "metadata": {},
     "output_type": "execute_result"
    }
   ],
   "source": [
    "#Checking the categories of State variable\n",
    "data['State'].value_counts()"
   ]
  },
  {
   "cell_type": "code",
   "execution_count": null,
   "metadata": {},
   "outputs": [],
   "source": []
  },
  {
   "cell_type": "code",
   "execution_count": 12,
   "metadata": {},
   "outputs": [
    {
     "data": {
      "text/html": [
       "<div>\n",
       "<style scoped>\n",
       "    .dataframe tbody tr th:only-of-type {\n",
       "        vertical-align: middle;\n",
       "    }\n",
       "\n",
       "    .dataframe tbody tr th {\n",
       "        vertical-align: top;\n",
       "    }\n",
       "\n",
       "    .dataframe thead th {\n",
       "        text-align: right;\n",
       "    }\n",
       "</style>\n",
       "<table border=\"1\" class=\"dataframe\">\n",
       "  <thead>\n",
       "    <tr style=\"text-align: right;\">\n",
       "      <th></th>\n",
       "      <th>R&amp;D Spend</th>\n",
       "      <th>Administration</th>\n",
       "      <th>Marketing Spend</th>\n",
       "      <th>Profit</th>\n",
       "      <th>State_California</th>\n",
       "      <th>State_Florida</th>\n",
       "      <th>State_New York</th>\n",
       "    </tr>\n",
       "  </thead>\n",
       "  <tbody>\n",
       "    <tr>\n",
       "      <th>0</th>\n",
       "      <td>165349.20</td>\n",
       "      <td>136897.80</td>\n",
       "      <td>471784.10</td>\n",
       "      <td>192261.83</td>\n",
       "      <td>0</td>\n",
       "      <td>0</td>\n",
       "      <td>1</td>\n",
       "    </tr>\n",
       "    <tr>\n",
       "      <th>1</th>\n",
       "      <td>162597.70</td>\n",
       "      <td>151377.59</td>\n",
       "      <td>443898.53</td>\n",
       "      <td>191792.06</td>\n",
       "      <td>1</td>\n",
       "      <td>0</td>\n",
       "      <td>0</td>\n",
       "    </tr>\n",
       "    <tr>\n",
       "      <th>2</th>\n",
       "      <td>153441.51</td>\n",
       "      <td>101145.55</td>\n",
       "      <td>407934.54</td>\n",
       "      <td>191050.39</td>\n",
       "      <td>0</td>\n",
       "      <td>1</td>\n",
       "      <td>0</td>\n",
       "    </tr>\n",
       "    <tr>\n",
       "      <th>3</th>\n",
       "      <td>144372.41</td>\n",
       "      <td>118671.85</td>\n",
       "      <td>383199.62</td>\n",
       "      <td>182901.99</td>\n",
       "      <td>0</td>\n",
       "      <td>0</td>\n",
       "      <td>1</td>\n",
       "    </tr>\n",
       "    <tr>\n",
       "      <th>4</th>\n",
       "      <td>142107.34</td>\n",
       "      <td>91391.77</td>\n",
       "      <td>366168.42</td>\n",
       "      <td>166187.94</td>\n",
       "      <td>0</td>\n",
       "      <td>1</td>\n",
       "      <td>0</td>\n",
       "    </tr>\n",
       "  </tbody>\n",
       "</table>\n",
       "</div>"
      ],
      "text/plain": [
       "   R&D Spend  Administration  Marketing Spend     Profit  State_California  \\\n",
       "0  165349.20       136897.80        471784.10  192261.83                 0   \n",
       "1  162597.70       151377.59        443898.53  191792.06                 1   \n",
       "2  153441.51       101145.55        407934.54  191050.39                 0   \n",
       "3  144372.41       118671.85        383199.62  182901.99                 0   \n",
       "4  142107.34        91391.77        366168.42  166187.94                 0   \n",
       "\n",
       "   State_Florida  State_New York  \n",
       "0              0               1  \n",
       "1              0               0  \n",
       "2              1               0  \n",
       "3              0               1  \n",
       "4              1               0  "
      ]
     },
     "execution_count": 12,
     "metadata": {},
     "output_type": "execute_result"
    }
   ],
   "source": [
    "#Getting dummy variables\n",
    "data1= pd.get_dummies(data,columns=['State'])\n",
    "data1.head()"
   ]
  },
  {
   "cell_type": "code",
   "execution_count": null,
   "metadata": {},
   "outputs": [],
   "source": []
  },
  {
   "cell_type": "markdown",
   "metadata": {},
   "source": [
    "### Rename the columns"
   ]
  },
  {
   "cell_type": "code",
   "execution_count": 13,
   "metadata": {},
   "outputs": [],
   "source": [
    "#Renaming the columns\n",
    "data1 = data1.rename({'R&D Spend':'RnD', 'Administration':'Admin', 'Marketing Spend':'MS', 'Profit':'Profit',\n",
    "       'State_California':'CA', 'State_Florida':'FL', 'State_New York':'NY'},axis=1)"
   ]
  },
  {
   "cell_type": "code",
   "execution_count": 14,
   "metadata": {},
   "outputs": [
    {
     "data": {
      "text/plain": [
       "Index(['RnD', 'Admin', 'MS', 'Profit', 'CA', 'FL', 'NY'], dtype='object')"
      ]
     },
     "execution_count": 14,
     "metadata": {},
     "output_type": "execute_result"
    }
   ],
   "source": [
    "data1.columns"
   ]
  },
  {
   "cell_type": "code",
   "execution_count": null,
   "metadata": {},
   "outputs": [],
   "source": []
  },
  {
   "cell_type": "markdown",
   "metadata": {},
   "source": [
    "# Scatter plot and Correlation analysis"
   ]
  },
  {
   "cell_type": "code",
   "execution_count": 15,
   "metadata": {},
   "outputs": [
    {
     "data": {
      "text/html": [
       "<div>\n",
       "<style scoped>\n",
       "    .dataframe tbody tr th:only-of-type {\n",
       "        vertical-align: middle;\n",
       "    }\n",
       "\n",
       "    .dataframe tbody tr th {\n",
       "        vertical-align: top;\n",
       "    }\n",
       "\n",
       "    .dataframe thead th {\n",
       "        text-align: right;\n",
       "    }\n",
       "</style>\n",
       "<table border=\"1\" class=\"dataframe\">\n",
       "  <thead>\n",
       "    <tr style=\"text-align: right;\">\n",
       "      <th></th>\n",
       "      <th>RnD</th>\n",
       "      <th>Admin</th>\n",
       "      <th>MS</th>\n",
       "      <th>Profit</th>\n",
       "      <th>CA</th>\n",
       "      <th>FL</th>\n",
       "      <th>NY</th>\n",
       "    </tr>\n",
       "  </thead>\n",
       "  <tbody>\n",
       "    <tr>\n",
       "      <th>RnD</th>\n",
       "      <td>1.000000</td>\n",
       "      <td>0.241955</td>\n",
       "      <td>0.724248</td>\n",
       "      <td>0.972900</td>\n",
       "      <td>-0.143165</td>\n",
       "      <td>0.105711</td>\n",
       "      <td>0.039068</td>\n",
       "    </tr>\n",
       "    <tr>\n",
       "      <th>Admin</th>\n",
       "      <td>0.241955</td>\n",
       "      <td>1.000000</td>\n",
       "      <td>-0.032154</td>\n",
       "      <td>0.200717</td>\n",
       "      <td>-0.015478</td>\n",
       "      <td>0.010493</td>\n",
       "      <td>0.005145</td>\n",
       "    </tr>\n",
       "    <tr>\n",
       "      <th>MS</th>\n",
       "      <td>0.724248</td>\n",
       "      <td>-0.032154</td>\n",
       "      <td>1.000000</td>\n",
       "      <td>0.747766</td>\n",
       "      <td>-0.168875</td>\n",
       "      <td>0.205685</td>\n",
       "      <td>-0.033670</td>\n",
       "    </tr>\n",
       "    <tr>\n",
       "      <th>Profit</th>\n",
       "      <td>0.972900</td>\n",
       "      <td>0.200717</td>\n",
       "      <td>0.747766</td>\n",
       "      <td>1.000000</td>\n",
       "      <td>-0.145837</td>\n",
       "      <td>0.116244</td>\n",
       "      <td>0.031368</td>\n",
       "    </tr>\n",
       "    <tr>\n",
       "      <th>CA</th>\n",
       "      <td>-0.143165</td>\n",
       "      <td>-0.015478</td>\n",
       "      <td>-0.168875</td>\n",
       "      <td>-0.145837</td>\n",
       "      <td>1.000000</td>\n",
       "      <td>-0.492366</td>\n",
       "      <td>-0.515152</td>\n",
       "    </tr>\n",
       "    <tr>\n",
       "      <th>FL</th>\n",
       "      <td>0.105711</td>\n",
       "      <td>0.010493</td>\n",
       "      <td>0.205685</td>\n",
       "      <td>0.116244</td>\n",
       "      <td>-0.492366</td>\n",
       "      <td>1.000000</td>\n",
       "      <td>-0.492366</td>\n",
       "    </tr>\n",
       "    <tr>\n",
       "      <th>NY</th>\n",
       "      <td>0.039068</td>\n",
       "      <td>0.005145</td>\n",
       "      <td>-0.033670</td>\n",
       "      <td>0.031368</td>\n",
       "      <td>-0.515152</td>\n",
       "      <td>-0.492366</td>\n",
       "      <td>1.000000</td>\n",
       "    </tr>\n",
       "  </tbody>\n",
       "</table>\n",
       "</div>"
      ],
      "text/plain": [
       "             RnD     Admin        MS    Profit        CA        FL        NY\n",
       "RnD     1.000000  0.241955  0.724248  0.972900 -0.143165  0.105711  0.039068\n",
       "Admin   0.241955  1.000000 -0.032154  0.200717 -0.015478  0.010493  0.005145\n",
       "MS      0.724248 -0.032154  1.000000  0.747766 -0.168875  0.205685 -0.033670\n",
       "Profit  0.972900  0.200717  0.747766  1.000000 -0.145837  0.116244  0.031368\n",
       "CA     -0.143165 -0.015478 -0.168875 -0.145837  1.000000 -0.492366 -0.515152\n",
       "FL      0.105711  0.010493  0.205685  0.116244 -0.492366  1.000000 -0.492366\n",
       "NY      0.039068  0.005145 -0.033670  0.031368 -0.515152 -0.492366  1.000000"
      ]
     },
     "execution_count": 15,
     "metadata": {},
     "output_type": "execute_result"
    }
   ],
   "source": [
    "# To find the correlation btw x1=RnD, x2=Admin, x3=MS, x4=State and y=Profit\n",
    "data1.corr()#Correlation of profit with admin is very less"
   ]
  },
  {
   "cell_type": "code",
   "execution_count": null,
   "metadata": {},
   "outputs": [],
   "source": []
  },
  {
   "cell_type": "code",
   "execution_count": 16,
   "metadata": {},
   "outputs": [
    {
     "data": {
      "text/plain": [
       "<seaborn.axisgrid.PairGrid at 0x1c364278f70>"
      ]
     },
     "execution_count": 16,
     "metadata": {},
     "output_type": "execute_result"
    },
    {
     "data": {
      "image/png": "[encoded data removed]",
      "text/plain": [
       "<Figure size 1260x1260 with 56 Axes>"
      ]
     },
     "metadata": {
      "needs_background": "light"
     },
     "output_type": "display_data"
    }
   ],
   "source": [
    "sns.pairplot (data=data1)"
   ]
  },
  {
   "cell_type": "code",
   "execution_count": null,
   "metadata": {},
   "outputs": [],
   "source": []
  },
  {
   "cell_type": "markdown",
   "metadata": {},
   "source": [
    "### Building the regression model"
   ]
  },
  {
   "cell_type": "code",
   "execution_count": 17,
   "metadata": {},
   "outputs": [],
   "source": [
    "import statsmodels.formula.api as smf\n",
    "model1 = smf.ols('Profit~RnD+Admin+MS+CA+FL+NY',data=data1).fit()"
   ]
  },
  {
   "cell_type": "code",
   "execution_count": 18,
   "metadata": {},
   "outputs": [
    {
     "data": {
      "text/html": [
       "<table class=\"simpletable\">\n",
       "<caption>OLS Regression Results</caption>\n",
       "<tr>\n",
       "  <th>Dep. Variable:</th>         <td>Profit</td>      <th>  R-squared:         </th> <td>   0.951</td>\n",
       "</tr>\n",
       "<tr>\n",
       "  <th>Model:</th>                   <td>OLS</td>       <th>  Adj. R-squared:    </th> <td>   0.945</td>\n",
       "</tr>\n",
       "<tr>\n",
       "  <th>Method:</th>             <td>Least Squares</td>  <th>  F-statistic:       </th> <td>   169.9</td>\n",
       "</tr>\n",
       "<tr>\n",
       "  <th>Date:</th>             <td>Thu, 10 Jun 2021</td> <th>  Prob (F-statistic):</th> <td>1.34e-27</td>\n",
       "</tr>\n",
       "<tr>\n",
       "  <th>Time:</th>                 <td>17:52:42</td>     <th>  Log-Likelihood:    </th> <td> -525.38</td>\n",
       "</tr>\n",
       "<tr>\n",
       "  <th>No. Observations:</th>      <td>    50</td>      <th>  AIC:               </th> <td>   1063.</td>\n",
       "</tr>\n",
       "<tr>\n",
       "  <th>Df Residuals:</th>          <td>    44</td>      <th>  BIC:               </th> <td>   1074.</td>\n",
       "</tr>\n",
       "<tr>\n",
       "  <th>Df Model:</th>              <td>     5</td>      <th>                     </th>     <td> </td>   \n",
       "</tr>\n",
       "<tr>\n",
       "  <th>Covariance Type:</th>      <td>nonrobust</td>    <th>                     </th>     <td> </td>   \n",
       "</tr>\n",
       "</table>\n",
       "<table class=\"simpletable\">\n",
       "<tr>\n",
       "      <td></td>         <th>coef</th>     <th>std err</th>      <th>t</th>      <th>P>|t|</th>  <th>[0.025</th>    <th>0.975]</th>  \n",
       "</tr>\n",
       "<tr>\n",
       "  <th>Intercept</th> <td> 3.763e+04</td> <td> 5073.636</td> <td>    7.417</td> <td> 0.000</td> <td> 2.74e+04</td> <td> 4.79e+04</td>\n",
       "</tr>\n",
       "<tr>\n",
       "  <th>RnD</th>       <td>    0.8060</td> <td>    0.046</td> <td>   17.369</td> <td> 0.000</td> <td>    0.712</td> <td>    0.900</td>\n",
       "</tr>\n",
       "<tr>\n",
       "  <th>Admin</th>     <td>   -0.0270</td> <td>    0.052</td> <td>   -0.517</td> <td> 0.608</td> <td>   -0.132</td> <td>    0.078</td>\n",
       "</tr>\n",
       "<tr>\n",
       "  <th>MS</th>        <td>    0.0270</td> <td>    0.017</td> <td>    1.574</td> <td> 0.123</td> <td>   -0.008</td> <td>    0.062</td>\n",
       "</tr>\n",
       "<tr>\n",
       "  <th>CA</th>        <td> 1.249e+04</td> <td> 2449.797</td> <td>    5.099</td> <td> 0.000</td> <td> 7554.868</td> <td> 1.74e+04</td>\n",
       "</tr>\n",
       "<tr>\n",
       "  <th>FL</th>        <td> 1.269e+04</td> <td> 2726.700</td> <td>    4.654</td> <td> 0.000</td> <td> 7195.596</td> <td> 1.82e+04</td>\n",
       "</tr>\n",
       "<tr>\n",
       "  <th>NY</th>        <td> 1.245e+04</td> <td> 2486.364</td> <td>    5.007</td> <td> 0.000</td> <td> 7439.285</td> <td> 1.75e+04</td>\n",
       "</tr>\n",
       "</table>\n",
       "<table class=\"simpletable\">\n",
       "<tr>\n",
       "  <th>Omnibus:</th>       <td>14.782</td> <th>  Durbin-Watson:     </th> <td>   1.283</td>\n",
       "</tr>\n",
       "<tr>\n",
       "  <th>Prob(Omnibus):</th> <td> 0.001</td> <th>  Jarque-Bera (JB):  </th> <td>  21.266</td>\n",
       "</tr>\n",
       "<tr>\n",
       "  <th>Skew:</th>          <td>-0.948</td> <th>  Prob(JB):          </th> <td>2.41e-05</td>\n",
       "</tr>\n",
       "<tr>\n",
       "  <th>Kurtosis:</th>      <td> 5.572</td> <th>  Cond. No.          </th> <td>3.84e+21</td>\n",
       "</tr>\n",
       "</table><br/><br/>Warnings:<br/>[1] Standard Errors assume that the covariance matrix of the errors is correctly specified.<br/>[2] The smallest eigenvalue is 2.63e-31. This might indicate that there are<br/>strong multicollinearity problems or that the design matrix is singular."
      ],
      "text/plain": [
       "<class 'statsmodels.iolib.summary.Summary'>\n",
       "\"\"\"\n",
       "                            OLS Regression Results                            \n",
       "==============================================================================\n",
       "Dep. Variable:                 Profit   R-squared:                       0.951\n",
       "Model:                            OLS   Adj. R-squared:                  0.945\n",
       "Method:                 Least Squares   F-statistic:                     169.9\n",
       "Date:                Thu, 10 Jun 2021   Prob (F-statistic):           1.34e-27\n",
       "Time:                        17:52:42   Log-Likelihood:                -525.38\n",
       "No. Observations:                  50   AIC:                             1063.\n",
       "Df Residuals:                      44   BIC:                             1074.\n",
       "Df Model:                           5                                         \n",
       "Covariance Type:            nonrobust                                         \n",
       "==============================================================================\n",
       "                 coef    std err          t      P>|t|      [0.025      0.975]\n",
       "------------------------------------------------------------------------------\n",
       "Intercept   3.763e+04   5073.636      7.417      0.000    2.74e+04    4.79e+04\n",
       "RnD            0.8060      0.046     17.369      0.000       0.712       0.900\n",
       "Admin         -0.0270      0.052     -0.517      0.608      -0.132       0.078\n",
       "MS             0.0270      0.017      1.574      0.123      -0.008       0.062\n",
       "CA          1.249e+04   2449.797      5.099      0.000    7554.868    1.74e+04\n",
       "FL          1.269e+04   2726.700      4.654      0.000    7195.596    1.82e+04\n",
       "NY          1.245e+04   2486.364      5.007      0.000    7439.285    1.75e+04\n",
       "==============================================================================\n",
       "Omnibus:                       14.782   Durbin-Watson:                   1.283\n",
       "Prob(Omnibus):                  0.001   Jarque-Bera (JB):               21.266\n",
       "Skew:                          -0.948   Prob(JB):                     2.41e-05\n",
       "Kurtosis:                       5.572   Cond. No.                     3.84e+21\n",
       "==============================================================================\n",
       "\n",
       "Warnings:\n",
       "[1] Standard Errors assume that the covariance matrix of the errors is correctly specified.\n",
       "[2] The smallest eigenvalue is 2.63e-31. This might indicate that there are\n",
       "strong multicollinearity problems or that the design matrix is singular.\n",
       "\"\"\""
      ]
     },
     "execution_count": 18,
     "metadata": {},
     "output_type": "execute_result"
    }
   ],
   "source": [
    "model1.summary()"
   ]
  },
  {
   "cell_type": "code",
   "execution_count": null,
   "metadata": {},
   "outputs": [],
   "source": []
  },
  {
   "cell_type": "code",
   "execution_count": 19,
   "metadata": {},
   "outputs": [
    {
     "data": {
      "text/plain": [
       "Intercept    37633.233317\n",
       "RnD              0.806023\n",
       "Admin           -0.027004\n",
       "MS               0.026980\n",
       "CA           12492.110514\n",
       "FL           12690.899307\n",
       "NY           12450.223495\n",
       "dtype: float64"
      ]
     },
     "execution_count": 19,
     "metadata": {},
     "output_type": "execute_result"
    }
   ],
   "source": [
    "# Finding Coefficient parameters\n",
    "model1.params"
   ]
  },
  {
   "cell_type": "code",
   "execution_count": 20,
   "metadata": {},
   "outputs": [
    {
     "name": "stdout",
     "output_type": "stream",
     "text": [
      "Intercept     7.417409\n",
      "RnD          17.368580\n",
      "Admin        -0.517012\n",
      "MS            1.573889\n",
      "CA            5.099242\n",
      "FL            4.654306\n",
      "NY            5.007401\n",
      "dtype: float64 \n",
      " Intercept    2.807645e-09\n",
      "RnD          2.578772e-21\n",
      "Admin        6.077373e-01\n",
      "MS           1.226769e-01\n",
      "CA           6.942555e-06\n",
      "FL           2.992503e-05\n",
      "NY           9.409010e-06\n",
      "dtype: float64\n"
     ]
    }
   ],
   "source": [
    "# Finding tvalues and pvalues\n",
    "print(model1.tvalues, '\\n', model1.pvalues)"
   ]
  },
  {
   "cell_type": "code",
   "execution_count": 21,
   "metadata": {},
   "outputs": [
    {
     "data": {
      "text/plain": [
       "(0.9507524843355148, 0.945156175737278)"
      ]
     },
     "execution_count": 21,
     "metadata": {},
     "output_type": "execute_result"
    }
   ],
   "source": [
    "# Finding Rsquared Values\n",
    "(model1.rsquared,model1.rsquared_adj)"
   ]
  },
  {
   "cell_type": "code",
   "execution_count": null,
   "metadata": {},
   "outputs": [],
   "source": []
  },
  {
   "cell_type": "markdown",
   "metadata": {},
   "source": [
    "### As per Model 1, admin and ms are not significant, hence checking individually"
   ]
  },
  {
   "cell_type": "code",
   "execution_count": 22,
   "metadata": {},
   "outputs": [],
   "source": [
    "ml_adm= smf.ols('Profit~Admin ',data=data1).fit()"
   ]
  },
  {
   "cell_type": "code",
   "execution_count": 23,
   "metadata": {},
   "outputs": [
    {
     "data": {
      "text/html": [
       "<table class=\"simpletable\">\n",
       "<caption>OLS Regression Results</caption>\n",
       "<tr>\n",
       "  <th>Dep. Variable:</th>         <td>Profit</td>      <th>  R-squared:         </th> <td>   0.040</td>\n",
       "</tr>\n",
       "<tr>\n",
       "  <th>Model:</th>                   <td>OLS</td>       <th>  Adj. R-squared:    </th> <td>   0.020</td>\n",
       "</tr>\n",
       "<tr>\n",
       "  <th>Method:</th>             <td>Least Squares</td>  <th>  F-statistic:       </th> <td>   2.015</td>\n",
       "</tr>\n",
       "<tr>\n",
       "  <th>Date:</th>             <td>Thu, 10 Jun 2021</td> <th>  Prob (F-statistic):</th>  <td> 0.162</td> \n",
       "</tr>\n",
       "<tr>\n",
       "  <th>Time:</th>                 <td>17:52:43</td>     <th>  Log-Likelihood:    </th> <td> -599.63</td>\n",
       "</tr>\n",
       "<tr>\n",
       "  <th>No. Observations:</th>      <td>    50</td>      <th>  AIC:               </th> <td>   1203.</td>\n",
       "</tr>\n",
       "<tr>\n",
       "  <th>Df Residuals:</th>          <td>    48</td>      <th>  BIC:               </th> <td>   1207.</td>\n",
       "</tr>\n",
       "<tr>\n",
       "  <th>Df Model:</th>              <td>     1</td>      <th>                     </th>     <td> </td>   \n",
       "</tr>\n",
       "<tr>\n",
       "  <th>Covariance Type:</th>      <td>nonrobust</td>    <th>                     </th>     <td> </td>   \n",
       "</tr>\n",
       "</table>\n",
       "<table class=\"simpletable\">\n",
       "<tr>\n",
       "      <td></td>         <th>coef</th>     <th>std err</th>      <th>t</th>      <th>P>|t|</th>  <th>[0.025</th>    <th>0.975]</th>  \n",
       "</tr>\n",
       "<tr>\n",
       "  <th>Intercept</th> <td> 7.697e+04</td> <td> 2.53e+04</td> <td>    3.040</td> <td> 0.004</td> <td> 2.61e+04</td> <td> 1.28e+05</td>\n",
       "</tr>\n",
       "<tr>\n",
       "  <th>Admin</th>     <td>    0.2887</td> <td>    0.203</td> <td>    1.419</td> <td> 0.162</td> <td>   -0.120</td> <td>    0.698</td>\n",
       "</tr>\n",
       "</table>\n",
       "<table class=\"simpletable\">\n",
       "<tr>\n",
       "  <th>Omnibus:</th>       <td> 0.126</td> <th>  Durbin-Watson:     </th> <td>   0.099</td>\n",
       "</tr>\n",
       "<tr>\n",
       "  <th>Prob(Omnibus):</th> <td> 0.939</td> <th>  Jarque-Bera (JB):  </th> <td>   0.110</td>\n",
       "</tr>\n",
       "<tr>\n",
       "  <th>Skew:</th>          <td> 0.093</td> <th>  Prob(JB):          </th> <td>   0.947</td>\n",
       "</tr>\n",
       "<tr>\n",
       "  <th>Kurtosis:</th>      <td> 2.866</td> <th>  Cond. No.          </th> <td>5.59e+05</td>\n",
       "</tr>\n",
       "</table><br/><br/>Warnings:<br/>[1] Standard Errors assume that the covariance matrix of the errors is correctly specified.<br/>[2] The condition number is large, 5.59e+05. This might indicate that there are<br/>strong multicollinearity or other numerical problems."
      ],
      "text/plain": [
       "<class 'statsmodels.iolib.summary.Summary'>\n",
       "\"\"\"\n",
       "                            OLS Regression Results                            \n",
       "==============================================================================\n",
       "Dep. Variable:                 Profit   R-squared:                       0.040\n",
       "Model:                            OLS   Adj. R-squared:                  0.020\n",
       "Method:                 Least Squares   F-statistic:                     2.015\n",
       "Date:                Thu, 10 Jun 2021   Prob (F-statistic):              0.162\n",
       "Time:                        17:52:43   Log-Likelihood:                -599.63\n",
       "No. Observations:                  50   AIC:                             1203.\n",
       "Df Residuals:                      48   BIC:                             1207.\n",
       "Df Model:                           1                                         \n",
       "Covariance Type:            nonrobust                                         \n",
       "==============================================================================\n",
       "                 coef    std err          t      P>|t|      [0.025      0.975]\n",
       "------------------------------------------------------------------------------\n",
       "Intercept   7.697e+04   2.53e+04      3.040      0.004    2.61e+04    1.28e+05\n",
       "Admin          0.2887      0.203      1.419      0.162      -0.120       0.698\n",
       "==============================================================================\n",
       "Omnibus:                        0.126   Durbin-Watson:                   0.099\n",
       "Prob(Omnibus):                  0.939   Jarque-Bera (JB):                0.110\n",
       "Skew:                           0.093   Prob(JB):                        0.947\n",
       "Kurtosis:                       2.866   Cond. No.                     5.59e+05\n",
       "==============================================================================\n",
       "\n",
       "Warnings:\n",
       "[1] Standard Errors assume that the covariance matrix of the errors is correctly specified.\n",
       "[2] The condition number is large, 5.59e+05. This might indicate that there are\n",
       "strong multicollinearity or other numerical problems.\n",
       "\"\"\""
      ]
     },
     "execution_count": 23,
     "metadata": {},
     "output_type": "execute_result"
    }
   ],
   "source": [
    "ml_adm.summary()"
   ]
  },
  {
   "cell_type": "code",
   "execution_count": 24,
   "metadata": {},
   "outputs": [],
   "source": [
    "# As per model 1a, Admin is not significant."
   ]
  },
  {
   "cell_type": "code",
   "execution_count": null,
   "metadata": {},
   "outputs": [],
   "source": []
  },
  {
   "cell_type": "code",
   "execution_count": 25,
   "metadata": {},
   "outputs": [],
   "source": [
    "ml_ms = smf.ols('Profit~MS',data=data1).fit()"
   ]
  },
  {
   "cell_type": "code",
   "execution_count": 26,
   "metadata": {},
   "outputs": [
    {
     "data": {
      "text/html": [
       "<table class=\"simpletable\">\n",
       "<caption>OLS Regression Results</caption>\n",
       "<tr>\n",
       "  <th>Dep. Variable:</th>         <td>Profit</td>      <th>  R-squared:         </th> <td>   0.559</td>\n",
       "</tr>\n",
       "<tr>\n",
       "  <th>Model:</th>                   <td>OLS</td>       <th>  Adj. R-squared:    </th> <td>   0.550</td>\n",
       "</tr>\n",
       "<tr>\n",
       "  <th>Method:</th>             <td>Least Squares</td>  <th>  F-statistic:       </th> <td>   60.88</td>\n",
       "</tr>\n",
       "<tr>\n",
       "  <th>Date:</th>             <td>Thu, 10 Jun 2021</td> <th>  Prob (F-statistic):</th> <td>4.38e-10</td>\n",
       "</tr>\n",
       "<tr>\n",
       "  <th>Time:</th>                 <td>17:52:43</td>     <th>  Log-Likelihood:    </th> <td> -580.18</td>\n",
       "</tr>\n",
       "<tr>\n",
       "  <th>No. Observations:</th>      <td>    50</td>      <th>  AIC:               </th> <td>   1164.</td>\n",
       "</tr>\n",
       "<tr>\n",
       "  <th>Df Residuals:</th>          <td>    48</td>      <th>  BIC:               </th> <td>   1168.</td>\n",
       "</tr>\n",
       "<tr>\n",
       "  <th>Df Model:</th>              <td>     1</td>      <th>                     </th>     <td> </td>   \n",
       "</tr>\n",
       "<tr>\n",
       "  <th>Covariance Type:</th>      <td>nonrobust</td>    <th>                     </th>     <td> </td>   \n",
       "</tr>\n",
       "</table>\n",
       "<table class=\"simpletable\">\n",
       "<tr>\n",
       "      <td></td>         <th>coef</th>     <th>std err</th>      <th>t</th>      <th>P>|t|</th>  <th>[0.025</th>    <th>0.975]</th>  \n",
       "</tr>\n",
       "<tr>\n",
       "  <th>Intercept</th> <td>     6e+04</td> <td> 7684.530</td> <td>    7.808</td> <td> 0.000</td> <td> 4.46e+04</td> <td> 7.55e+04</td>\n",
       "</tr>\n",
       "<tr>\n",
       "  <th>MS</th>        <td>    0.2465</td> <td>    0.032</td> <td>    7.803</td> <td> 0.000</td> <td>    0.183</td> <td>    0.310</td>\n",
       "</tr>\n",
       "</table>\n",
       "<table class=\"simpletable\">\n",
       "<tr>\n",
       "  <th>Omnibus:</th>       <td> 4.420</td> <th>  Durbin-Watson:     </th> <td>   1.178</td>\n",
       "</tr>\n",
       "<tr>\n",
       "  <th>Prob(Omnibus):</th> <td> 0.110</td> <th>  Jarque-Bera (JB):  </th> <td>   3.882</td>\n",
       "</tr>\n",
       "<tr>\n",
       "  <th>Skew:</th>          <td>-0.336</td> <th>  Prob(JB):          </th> <td>   0.144</td>\n",
       "</tr>\n",
       "<tr>\n",
       "  <th>Kurtosis:</th>      <td> 4.188</td> <th>  Cond. No.          </th> <td>4.89e+05</td>\n",
       "</tr>\n",
       "</table><br/><br/>Warnings:<br/>[1] Standard Errors assume that the covariance matrix of the errors is correctly specified.<br/>[2] The condition number is large, 4.89e+05. This might indicate that there are<br/>strong multicollinearity or other numerical problems."
      ],
      "text/plain": [
       "<class 'statsmodels.iolib.summary.Summary'>\n",
       "\"\"\"\n",
       "                            OLS Regression Results                            \n",
       "==============================================================================\n",
       "Dep. Variable:                 Profit   R-squared:                       0.559\n",
       "Model:                            OLS   Adj. R-squared:                  0.550\n",
       "Method:                 Least Squares   F-statistic:                     60.88\n",
       "Date:                Thu, 10 Jun 2021   Prob (F-statistic):           4.38e-10\n",
       "Time:                        17:52:43   Log-Likelihood:                -580.18\n",
       "No. Observations:                  50   AIC:                             1164.\n",
       "Df Residuals:                      48   BIC:                             1168.\n",
       "Df Model:                           1                                         \n",
       "Covariance Type:            nonrobust                                         \n",
       "==============================================================================\n",
       "                 coef    std err          t      P>|t|      [0.025      0.975]\n",
       "------------------------------------------------------------------------------\n",
       "Intercept       6e+04   7684.530      7.808      0.000    4.46e+04    7.55e+04\n",
       "MS             0.2465      0.032      7.803      0.000       0.183       0.310\n",
       "==============================================================================\n",
       "Omnibus:                        4.420   Durbin-Watson:                   1.178\n",
       "Prob(Omnibus):                  0.110   Jarque-Bera (JB):                3.882\n",
       "Skew:                          -0.336   Prob(JB):                        0.144\n",
       "Kurtosis:                       4.188   Cond. No.                     4.89e+05\n",
       "==============================================================================\n",
       "\n",
       "Warnings:\n",
       "[1] Standard Errors assume that the covariance matrix of the errors is correctly specified.\n",
       "[2] The condition number is large, 4.89e+05. This might indicate that there are\n",
       "strong multicollinearity or other numerical problems.\n",
       "\"\"\""
      ]
     },
     "execution_count": 26,
     "metadata": {},
     "output_type": "execute_result"
    }
   ],
   "source": [
    "ml_ms.summary()"
   ]
  },
  {
   "cell_type": "code",
   "execution_count": 27,
   "metadata": {},
   "outputs": [],
   "source": [
    "# As per model 1b, MS is significant"
   ]
  },
  {
   "cell_type": "code",
   "execution_count": null,
   "metadata": {},
   "outputs": [],
   "source": []
  },
  {
   "cell_type": "markdown",
   "metadata": {},
   "source": [
    "### Calculating VIF to check colinearity factor"
   ]
  },
  {
   "cell_type": "code",
   "execution_count": 28,
   "metadata": {},
   "outputs": [
    {
     "data": {
      "text/html": [
       "<div>\n",
       "<style scoped>\n",
       "    .dataframe tbody tr th:only-of-type {\n",
       "        vertical-align: middle;\n",
       "    }\n",
       "\n",
       "    .dataframe tbody tr th {\n",
       "        vertical-align: top;\n",
       "    }\n",
       "\n",
       "    .dataframe thead th {\n",
       "        text-align: right;\n",
       "    }\n",
       "</style>\n",
       "<table border=\"1\" class=\"dataframe\">\n",
       "  <thead>\n",
       "    <tr style=\"text-align: right;\">\n",
       "      <th></th>\n",
       "      <th>Variables</th>\n",
       "      <th>VIF</th>\n",
       "    </tr>\n",
       "  </thead>\n",
       "  <tbody>\n",
       "    <tr>\n",
       "      <th>0</th>\n",
       "      <td>RnD</td>\n",
       "      <td>2.468903</td>\n",
       "    </tr>\n",
       "    <tr>\n",
       "      <th>1</th>\n",
       "      <td>Admin</td>\n",
       "      <td>1.175091</td>\n",
       "    </tr>\n",
       "    <tr>\n",
       "      <th>2</th>\n",
       "      <td>MS</td>\n",
       "      <td>2.326773</td>\n",
       "    </tr>\n",
       "  </tbody>\n",
       "</table>\n",
       "</div>"
      ],
      "text/plain": [
       "  Variables       VIF\n",
       "0       RnD  2.468903\n",
       "1     Admin  1.175091\n",
       "2        MS  2.326773"
      ]
     },
     "execution_count": 28,
     "metadata": {},
     "output_type": "execute_result"
    }
   ],
   "source": [
    "rsq_RnD = smf.ols('RnD~Admin+MS',data=data1).fit().rsquared  \n",
    "vif_RnD = 1/(1-rsq_RnD) \n",
    "\n",
    "rsq_Admin = smf.ols('Admin~RnD+MS',data=data1).fit().rsquared  \n",
    "vif_Admin = 1/(1-rsq_Admin) \n",
    "\n",
    "rsq_MS = smf.ols('MS~RnD+Admin',data=data1).fit().rsquared  \n",
    "vif_MS = 1/(1-rsq_MS) \n",
    "\n",
    "\n",
    "d1 = {'Variables':['RnD','Admin','MS'],'VIF':[vif_RnD,vif_Admin,vif_MS]}\n",
    "Vif_frame = pd.DataFrame(d1)  \n",
    "Vif_frame"
   ]
  },
  {
   "cell_type": "code",
   "execution_count": 29,
   "metadata": {},
   "outputs": [],
   "source": [
    "# All VIF values are less than 20, there are no colinear variables"
   ]
  },
  {
   "cell_type": "code",
   "execution_count": null,
   "metadata": {},
   "outputs": [],
   "source": []
  },
  {
   "cell_type": "markdown",
   "metadata": {},
   "source": [
    "## Residual Analysis"
   ]
  },
  {
   "cell_type": "markdown",
   "metadata": {},
   "source": [
    "### Test for Normality of Residuals (Q-Q Plot)"
   ]
  },
  {
   "cell_type": "code",
   "execution_count": 30,
   "metadata": {},
   "outputs": [],
   "source": [
    "#model1.resid\n",
    "#y^-y (for each data point what is the diff btw predicted and actual value)"
   ]
  },
  {
   "cell_type": "code",
   "execution_count": 31,
   "metadata": {},
   "outputs": [
    {
     "data": {
      "image/png": "[encoded data removed]",
      "text/plain": [
       "<Figure size 432x288 with 1 Axes>"
      ]
     },
     "metadata": {
      "needs_background": "light"
     },
     "output_type": "display_data"
    }
   ],
   "source": [
    "import statsmodels.api as sm\n",
    "qqplot=sm.qqplot(model1.resid,line='q') # line = 45 to draw the diagnoal line\n",
    "plt.title(\"Normal Q-Q plot of residuals\")\n",
    "plt.show()"
   ]
  },
  {
   "cell_type": "code",
   "execution_count": 32,
   "metadata": {},
   "outputs": [
    {
     "data": {
      "text/plain": [
       "[array([49], dtype=int64)]"
      ]
     },
     "execution_count": 32,
     "metadata": {},
     "output_type": "execute_result"
    }
   ],
   "source": [
    "# this will tell us what is the index position of model.resid points which are less than -30000\n",
    "list(np.where(model1.resid<-30000))"
   ]
  },
  {
   "cell_type": "code",
   "execution_count": null,
   "metadata": {},
   "outputs": [],
   "source": []
  },
  {
   "cell_type": "markdown",
   "metadata": {},
   "source": [
    "### Residual Plot for Homoscedasticity"
   ]
  },
  {
   "cell_type": "code",
   "execution_count": 33,
   "metadata": {},
   "outputs": [],
   "source": [
    "def get_standardized_values( vals ):\n",
    "    return (vals - vals.mean())/vals.std()"
   ]
  },
  {
   "cell_type": "code",
   "execution_count": 34,
   "metadata": {},
   "outputs": [
    {
     "data": {
      "image/png": "[encoded data removed]",
      "text/plain": [
       "<Figure size 432x288 with 1 Axes>"
      ]
     },
     "metadata": {
      "needs_background": "light"
     },
     "output_type": "display_data"
    }
   ],
   "source": [
    "plt.scatter(get_standardized_values(model1.fittedvalues),\n",
    "            get_standardized_values(model1.resid))\n",
    "\n",
    "plt.title('Residual Plot')\n",
    "plt.xlabel('Standardized Fitted values')\n",
    "plt.ylabel('Standardized residual values')\n",
    "plt.show()"
   ]
  },
  {
   "cell_type": "code",
   "execution_count": 35,
   "metadata": {},
   "outputs": [],
   "source": [
    "# Residual plot is not following any pattern, so its a good plot"
   ]
  },
  {
   "cell_type": "code",
   "execution_count": null,
   "metadata": {},
   "outputs": [],
   "source": []
  },
  {
   "cell_type": "markdown",
   "metadata": {},
   "source": [
    "### Residual Vs Regressors"
   ]
  },
  {
   "cell_type": "code",
   "execution_count": 36,
   "metadata": {},
   "outputs": [
    {
     "data": {
      "image/png": "[encoded data removed]",
      "text/plain": [
       "<Figure size 1080x576 with 4 Axes>"
      ]
     },
     "metadata": {
      "needs_background": "light"
     },
     "output_type": "display_data"
    }
   ],
   "source": [
    "fig = plt.figure(figsize=(15,8))\n",
    "fig = sm.graphics.plot_regress_exog(model1, \"RnD\", fig=fig)\n",
    "plt.show()"
   ]
  },
  {
   "cell_type": "code",
   "execution_count": 37,
   "metadata": {},
   "outputs": [
    {
     "data": {
      "image/png": "[encoded data removed]",
      "text/plain": [
       "<Figure size 1080x576 with 4 Axes>"
      ]
     },
     "metadata": {
      "needs_background": "light"
     },
     "output_type": "display_data"
    }
   ],
   "source": [
    "fig = plt.figure(figsize=(15,8))\n",
    "fig = sm.graphics.plot_regress_exog(model1, \"Admin\", fig=fig)\n",
    "plt.show()"
   ]
  },
  {
   "cell_type": "code",
   "execution_count": 38,
   "metadata": {},
   "outputs": [
    {
     "data": {
      "image/png": "[encoded data removed]",
      "text/plain": [
       "<Figure size 1080x576 with 4 Axes>"
      ]
     },
     "metadata": {
      "needs_background": "light"
     },
     "output_type": "display_data"
    }
   ],
   "source": [
    "fig = plt.figure(figsize=(15,8))\n",
    "fig = sm.graphics.plot_regress_exog(model1, \"MS\", fig=fig)\n",
    "plt.show()"
   ]
  },
  {
   "cell_type": "code",
   "execution_count": null,
   "metadata": {},
   "outputs": [],
   "source": []
  },
  {
   "cell_type": "markdown",
   "metadata": {},
   "source": [
    "### Model Deletion Diagnostics-Detecting Influencers/Outliers( Cook’s Distance)¶"
   ]
  },
  {
   "cell_type": "markdown",
   "metadata": {},
   "source": [
    "### Iteration -1"
   ]
  },
  {
   "cell_type": "code",
   "execution_count": 39,
   "metadata": {},
   "outputs": [],
   "source": [
    "# Identifying the outliers to make the model better using cook's distance technique\n",
    "model_influence = model1.get_influence()\n",
    "(c, _) = model_influence.cooks_distance"
   ]
  },
  {
   "cell_type": "code",
   "execution_count": 40,
   "metadata": {},
   "outputs": [
    {
     "data": {
      "image/png": "[encoded data removed]",
      "text/plain": [
       "<Figure size 1440x504 with 1 Axes>"
      ]
     },
     "metadata": {
      "needs_background": "light"
     },
     "output_type": "display_data"
    }
   ],
   "source": [
    "#Plot the influencers values using stem plot\n",
    "fig = plt.subplots(figsize=(20, 7))\n",
    "plt.stem(np.arange(len(data1)), np.round(c, 3))\n",
    "plt.xlabel('Row index')\n",
    "plt.ylabel('Cooks Distance')\n",
    "plt.show()"
   ]
  },
  {
   "cell_type": "code",
   "execution_count": 41,
   "metadata": {},
   "outputs": [
    {
     "data": {
      "text/plain": [
       "(49, 0.22625094501509285)"
      ]
     },
     "execution_count": 41,
     "metadata": {},
     "output_type": "execute_result"
    }
   ],
   "source": [
    "#index and value of influencer where c is more than .15\n",
    "(np.argmax(c),np.max(c))"
   ]
  },
  {
   "cell_type": "code",
   "execution_count": null,
   "metadata": {},
   "outputs": [],
   "source": []
  },
  {
   "cell_type": "code",
   "execution_count": 42,
   "metadata": {},
   "outputs": [
    {
     "data": {
      "text/html": [
       "<div>\n",
       "<style scoped>\n",
       "    .dataframe tbody tr th:only-of-type {\n",
       "        vertical-align: middle;\n",
       "    }\n",
       "\n",
       "    .dataframe tbody tr th {\n",
       "        vertical-align: top;\n",
       "    }\n",
       "\n",
       "    .dataframe thead th {\n",
       "        text-align: right;\n",
       "    }\n",
       "</style>\n",
       "<table border=\"1\" class=\"dataframe\">\n",
       "  <thead>\n",
       "    <tr style=\"text-align: right;\">\n",
       "      <th></th>\n",
       "      <th>RnD</th>\n",
       "      <th>Admin</th>\n",
       "      <th>MS</th>\n",
       "      <th>Profit</th>\n",
       "      <th>CA</th>\n",
       "      <th>FL</th>\n",
       "      <th>NY</th>\n",
       "    </tr>\n",
       "  </thead>\n",
       "  <tbody>\n",
       "    <tr>\n",
       "      <th>49</th>\n",
       "      <td>0.0</td>\n",
       "      <td>116983.8</td>\n",
       "      <td>45173.06</td>\n",
       "      <td>14681.4</td>\n",
       "      <td>1</td>\n",
       "      <td>0</td>\n",
       "      <td>0</td>\n",
       "    </tr>\n",
       "  </tbody>\n",
       "</table>\n",
       "</div>"
      ],
      "text/plain": [
       "    RnD     Admin        MS   Profit  CA  FL  NY\n",
       "49  0.0  116983.8  45173.06  14681.4   1   0   0"
      ]
     },
     "execution_count": 42,
     "metadata": {},
     "output_type": "execute_result"
    }
   ],
   "source": [
    "#From the above plot, it is evident that data point 49 are the influencers\n",
    "data1[data1.index.isin([49])]"
   ]
  },
  {
   "cell_type": "markdown",
   "metadata": {},
   "source": [
    "### Improving the model"
   ]
  },
  {
   "cell_type": "code",
   "execution_count": 43,
   "metadata": {},
   "outputs": [],
   "source": [
    "#Load the data\n",
    "data = pd.read_csv('50_Startups.csv')"
   ]
  },
  {
   "cell_type": "code",
   "execution_count": null,
   "metadata": {},
   "outputs": [],
   "source": []
  },
  {
   "cell_type": "code",
   "execution_count": 44,
   "metadata": {},
   "outputs": [
    {
     "data": {
      "text/html": [
       "<div>\n",
       "<style scoped>\n",
       "    .dataframe tbody tr th:only-of-type {\n",
       "        vertical-align: middle;\n",
       "    }\n",
       "\n",
       "    .dataframe tbody tr th {\n",
       "        vertical-align: top;\n",
       "    }\n",
       "\n",
       "    .dataframe thead th {\n",
       "        text-align: right;\n",
       "    }\n",
       "</style>\n",
       "<table border=\"1\" class=\"dataframe\">\n",
       "  <thead>\n",
       "    <tr style=\"text-align: right;\">\n",
       "      <th></th>\n",
       "      <th>index</th>\n",
       "      <th>RnD</th>\n",
       "      <th>Admin</th>\n",
       "      <th>MS</th>\n",
       "      <th>Profit</th>\n",
       "      <th>CA</th>\n",
       "      <th>FL</th>\n",
       "      <th>NY</th>\n",
       "    </tr>\n",
       "  </thead>\n",
       "  <tbody>\n",
       "    <tr>\n",
       "      <th>44</th>\n",
       "      <td>44</td>\n",
       "      <td>22177.74</td>\n",
       "      <td>154806.14</td>\n",
       "      <td>28334.72</td>\n",
       "      <td>65200.33</td>\n",
       "      <td>1</td>\n",
       "      <td>0</td>\n",
       "      <td>0</td>\n",
       "    </tr>\n",
       "    <tr>\n",
       "      <th>45</th>\n",
       "      <td>45</td>\n",
       "      <td>1000.23</td>\n",
       "      <td>124153.04</td>\n",
       "      <td>1903.93</td>\n",
       "      <td>64926.08</td>\n",
       "      <td>0</td>\n",
       "      <td>0</td>\n",
       "      <td>1</td>\n",
       "    </tr>\n",
       "    <tr>\n",
       "      <th>46</th>\n",
       "      <td>46</td>\n",
       "      <td>1315.46</td>\n",
       "      <td>115816.21</td>\n",
       "      <td>297114.46</td>\n",
       "      <td>49490.75</td>\n",
       "      <td>0</td>\n",
       "      <td>1</td>\n",
       "      <td>0</td>\n",
       "    </tr>\n",
       "    <tr>\n",
       "      <th>47</th>\n",
       "      <td>47</td>\n",
       "      <td>0.00</td>\n",
       "      <td>135426.92</td>\n",
       "      <td>0.00</td>\n",
       "      <td>42559.73</td>\n",
       "      <td>1</td>\n",
       "      <td>0</td>\n",
       "      <td>0</td>\n",
       "    </tr>\n",
       "    <tr>\n",
       "      <th>48</th>\n",
       "      <td>48</td>\n",
       "      <td>542.05</td>\n",
       "      <td>51743.15</td>\n",
       "      <td>0.00</td>\n",
       "      <td>35673.41</td>\n",
       "      <td>0</td>\n",
       "      <td>0</td>\n",
       "      <td>1</td>\n",
       "    </tr>\n",
       "  </tbody>\n",
       "</table>\n",
       "</div>"
      ],
      "text/plain": [
       "    index       RnD      Admin         MS    Profit  CA  FL  NY\n",
       "44     44  22177.74  154806.14   28334.72  65200.33   1   0   0\n",
       "45     45   1000.23  124153.04    1903.93  64926.08   0   0   1\n",
       "46     46   1315.46  115816.21  297114.46  49490.75   0   1   0\n",
       "47     47      0.00  135426.92       0.00  42559.73   1   0   0\n",
       "48     48    542.05   51743.15       0.00  35673.41   0   0   1"
      ]
     },
     "execution_count": 44,
     "metadata": {},
     "output_type": "execute_result"
    }
   ],
   "source": [
    "#Discard the data points which are influencers and reasign the row number (reset_index())\n",
    "# reset index will rest the numbers, axis = 0 is row and axis = 1 is column\n",
    "\n",
    "data2=data1.drop(data1.index[[49]],axis=0).reset_index()\n",
    "data2.tail()"
   ]
  },
  {
   "cell_type": "code",
   "execution_count": 45,
   "metadata": {},
   "outputs": [
    {
     "data": {
      "text/html": [
       "<div>\n",
       "<style scoped>\n",
       "    .dataframe tbody tr th:only-of-type {\n",
       "        vertical-align: middle;\n",
       "    }\n",
       "\n",
       "    .dataframe tbody tr th {\n",
       "        vertical-align: top;\n",
       "    }\n",
       "\n",
       "    .dataframe thead th {\n",
       "        text-align: right;\n",
       "    }\n",
       "</style>\n",
       "<table border=\"1\" class=\"dataframe\">\n",
       "  <thead>\n",
       "    <tr style=\"text-align: right;\">\n",
       "      <th></th>\n",
       "      <th>RnD</th>\n",
       "      <th>Admin</th>\n",
       "      <th>MS</th>\n",
       "      <th>Profit</th>\n",
       "      <th>CA</th>\n",
       "      <th>FL</th>\n",
       "      <th>NY</th>\n",
       "    </tr>\n",
       "  </thead>\n",
       "  <tbody>\n",
       "    <tr>\n",
       "      <th>0</th>\n",
       "      <td>165349.20</td>\n",
       "      <td>136897.80</td>\n",
       "      <td>471784.10</td>\n",
       "      <td>192261.83</td>\n",
       "      <td>0</td>\n",
       "      <td>0</td>\n",
       "      <td>1</td>\n",
       "    </tr>\n",
       "    <tr>\n",
       "      <th>1</th>\n",
       "      <td>162597.70</td>\n",
       "      <td>151377.59</td>\n",
       "      <td>443898.53</td>\n",
       "      <td>191792.06</td>\n",
       "      <td>1</td>\n",
       "      <td>0</td>\n",
       "      <td>0</td>\n",
       "    </tr>\n",
       "    <tr>\n",
       "      <th>2</th>\n",
       "      <td>153441.51</td>\n",
       "      <td>101145.55</td>\n",
       "      <td>407934.54</td>\n",
       "      <td>191050.39</td>\n",
       "      <td>0</td>\n",
       "      <td>1</td>\n",
       "      <td>0</td>\n",
       "    </tr>\n",
       "    <tr>\n",
       "      <th>3</th>\n",
       "      <td>144372.41</td>\n",
       "      <td>118671.85</td>\n",
       "      <td>383199.62</td>\n",
       "      <td>182901.99</td>\n",
       "      <td>0</td>\n",
       "      <td>0</td>\n",
       "      <td>1</td>\n",
       "    </tr>\n",
       "    <tr>\n",
       "      <th>4</th>\n",
       "      <td>142107.34</td>\n",
       "      <td>91391.77</td>\n",
       "      <td>366168.42</td>\n",
       "      <td>166187.94</td>\n",
       "      <td>0</td>\n",
       "      <td>1</td>\n",
       "      <td>0</td>\n",
       "    </tr>\n",
       "  </tbody>\n",
       "</table>\n",
       "</div>"
      ],
      "text/plain": [
       "         RnD      Admin         MS     Profit  CA  FL  NY\n",
       "0  165349.20  136897.80  471784.10  192261.83   0   0   1\n",
       "1  162597.70  151377.59  443898.53  191792.06   1   0   0\n",
       "2  153441.51  101145.55  407934.54  191050.39   0   1   0\n",
       "3  144372.41  118671.85  383199.62  182901.99   0   0   1\n",
       "4  142107.34   91391.77  366168.42  166187.94   0   1   0"
      ]
     },
     "execution_count": 45,
     "metadata": {},
     "output_type": "execute_result"
    }
   ],
   "source": [
    "#Drop the original index\n",
    "data2 = data2.drop(['index'],axis=1)\n",
    "data2.head()"
   ]
  },
  {
   "cell_type": "code",
   "execution_count": null,
   "metadata": {},
   "outputs": [],
   "source": []
  },
  {
   "cell_type": "code",
   "execution_count": 46,
   "metadata": {},
   "outputs": [],
   "source": [
    "model2 = smf.ols('Profit~RnD+Admin+MS+CA+FL+NY',data=data2).fit()"
   ]
  },
  {
   "cell_type": "code",
   "execution_count": 47,
   "metadata": {},
   "outputs": [
    {
     "data": {
      "text/html": [
       "<table class=\"simpletable\">\n",
       "<caption>OLS Regression Results</caption>\n",
       "<tr>\n",
       "  <th>Dep. Variable:</th>         <td>Profit</td>      <th>  R-squared:         </th> <td>   0.962</td>\n",
       "</tr>\n",
       "<tr>\n",
       "  <th>Model:</th>                   <td>OLS</td>       <th>  Adj. R-squared:    </th> <td>   0.957</td>\n",
       "</tr>\n",
       "<tr>\n",
       "  <th>Method:</th>             <td>Least Squares</td>  <th>  F-statistic:       </th> <td>   216.6</td>\n",
       "</tr>\n",
       "<tr>\n",
       "  <th>Date:</th>             <td>Thu, 10 Jun 2021</td> <th>  Prob (F-statistic):</th> <td>2.51e-29</td>\n",
       "</tr>\n",
       "<tr>\n",
       "  <th>Time:</th>                 <td>17:52:53</td>     <th>  Log-Likelihood:    </th> <td> -505.97</td>\n",
       "</tr>\n",
       "<tr>\n",
       "  <th>No. Observations:</th>      <td>    49</td>      <th>  AIC:               </th> <td>   1024.</td>\n",
       "</tr>\n",
       "<tr>\n",
       "  <th>Df Residuals:</th>          <td>    43</td>      <th>  BIC:               </th> <td>   1035.</td>\n",
       "</tr>\n",
       "<tr>\n",
       "  <th>Df Model:</th>              <td>     5</td>      <th>                     </th>     <td> </td>   \n",
       "</tr>\n",
       "<tr>\n",
       "  <th>Covariance Type:</th>      <td>nonrobust</td>    <th>                     </th>     <td> </td>   \n",
       "</tr>\n",
       "</table>\n",
       "<table class=\"simpletable\">\n",
       "<tr>\n",
       "      <td></td>         <th>coef</th>     <th>std err</th>      <th>t</th>      <th>P>|t|</th>  <th>[0.025</th>    <th>0.975]</th>  \n",
       "</tr>\n",
       "<tr>\n",
       "  <th>Intercept</th> <td> 3.915e+04</td> <td> 4249.909</td> <td>    9.213</td> <td> 0.000</td> <td> 3.06e+04</td> <td> 4.77e+04</td>\n",
       "</tr>\n",
       "<tr>\n",
       "  <th>RnD</th>       <td>    0.7836</td> <td>    0.039</td> <td>   20.056</td> <td> 0.000</td> <td>    0.705</td> <td>    0.862</td>\n",
       "</tr>\n",
       "<tr>\n",
       "  <th>Admin</th>     <td>   -0.0220</td> <td>    0.044</td> <td>   -0.505</td> <td> 0.616</td> <td>   -0.110</td> <td>    0.066</td>\n",
       "</tr>\n",
       "<tr>\n",
       "  <th>MS</th>        <td>    0.0258</td> <td>    0.014</td> <td>    1.804</td> <td> 0.078</td> <td>   -0.003</td> <td>    0.055</td>\n",
       "</tr>\n",
       "<tr>\n",
       "  <th>CA</th>        <td> 1.422e+04</td> <td> 2081.663</td> <td>    6.833</td> <td> 0.000</td> <td>    1e+04</td> <td> 1.84e+04</td>\n",
       "</tr>\n",
       "<tr>\n",
       "  <th>FL</th>        <td> 1.266e+04</td> <td> 2276.728</td> <td>    5.561</td> <td> 0.000</td> <td> 8068.684</td> <td> 1.73e+04</td>\n",
       "</tr>\n",
       "<tr>\n",
       "  <th>NY</th>        <td> 1.227e+04</td> <td> 2076.431</td> <td>    5.909</td> <td> 0.000</td> <td> 8082.828</td> <td> 1.65e+04</td>\n",
       "</tr>\n",
       "</table>\n",
       "<table class=\"simpletable\">\n",
       "<tr>\n",
       "  <th>Omnibus:</th>       <td> 0.051</td> <th>  Durbin-Watson:     </th> <td>   1.667</td>\n",
       "</tr>\n",
       "<tr>\n",
       "  <th>Prob(Omnibus):</th> <td> 0.975</td> <th>  Jarque-Bera (JB):  </th> <td>   0.207</td>\n",
       "</tr>\n",
       "<tr>\n",
       "  <th>Skew:</th>          <td> 0.061</td> <th>  Prob(JB):          </th> <td>   0.902</td>\n",
       "</tr>\n",
       "<tr>\n",
       "  <th>Kurtosis:</th>      <td> 2.705</td> <th>  Cond. No.          </th> <td>6.13e+21</td>\n",
       "</tr>\n",
       "</table><br/><br/>Warnings:<br/>[1] Standard Errors assume that the covariance matrix of the errors is correctly specified.<br/>[2] The smallest eigenvalue is 1.03e-31. This might indicate that there are<br/>strong multicollinearity problems or that the design matrix is singular."
      ],
      "text/plain": [
       "<class 'statsmodels.iolib.summary.Summary'>\n",
       "\"\"\"\n",
       "                            OLS Regression Results                            \n",
       "==============================================================================\n",
       "Dep. Variable:                 Profit   R-squared:                       0.962\n",
       "Model:                            OLS   Adj. R-squared:                  0.957\n",
       "Method:                 Least Squares   F-statistic:                     216.6\n",
       "Date:                Thu, 10 Jun 2021   Prob (F-statistic):           2.51e-29\n",
       "Time:                        17:52:53   Log-Likelihood:                -505.97\n",
       "No. Observations:                  49   AIC:                             1024.\n",
       "Df Residuals:                      43   BIC:                             1035.\n",
       "Df Model:                           5                                         \n",
       "Covariance Type:            nonrobust                                         \n",
       "==============================================================================\n",
       "                 coef    std err          t      P>|t|      [0.025      0.975]\n",
       "------------------------------------------------------------------------------\n",
       "Intercept   3.915e+04   4249.909      9.213      0.000    3.06e+04    4.77e+04\n",
       "RnD            0.7836      0.039     20.056      0.000       0.705       0.862\n",
       "Admin         -0.0220      0.044     -0.505      0.616      -0.110       0.066\n",
       "MS             0.0258      0.014      1.804      0.078      -0.003       0.055\n",
       "CA          1.422e+04   2081.663      6.833      0.000       1e+04    1.84e+04\n",
       "FL          1.266e+04   2276.728      5.561      0.000    8068.684    1.73e+04\n",
       "NY          1.227e+04   2076.431      5.909      0.000    8082.828    1.65e+04\n",
       "==============================================================================\n",
       "Omnibus:                        0.051   Durbin-Watson:                   1.667\n",
       "Prob(Omnibus):                  0.975   Jarque-Bera (JB):                0.207\n",
       "Skew:                           0.061   Prob(JB):                        0.902\n",
       "Kurtosis:                       2.705   Cond. No.                     6.13e+21\n",
       "==============================================================================\n",
       "\n",
       "Warnings:\n",
       "[1] Standard Errors assume that the covariance matrix of the errors is correctly specified.\n",
       "[2] The smallest eigenvalue is 1.03e-31. This might indicate that there are\n",
       "strong multicollinearity problems or that the design matrix is singular.\n",
       "\"\"\""
      ]
     },
     "execution_count": 47,
     "metadata": {},
     "output_type": "execute_result"
    }
   ],
   "source": [
    "model2.summary()"
   ]
  },
  {
   "cell_type": "code",
   "execution_count": 48,
   "metadata": {},
   "outputs": [],
   "source": [
    "# Rsquared value has increased, ms and admin are still insignificant¶"
   ]
  },
  {
   "cell_type": "code",
   "execution_count": null,
   "metadata": {},
   "outputs": [],
   "source": []
  },
  {
   "cell_type": "markdown",
   "metadata": {},
   "source": [
    "### Iteration -2"
   ]
  },
  {
   "cell_type": "code",
   "execution_count": 49,
   "metadata": {},
   "outputs": [],
   "source": [
    "model_influence = model2.get_influence()\n",
    "(c, _) = model_influence.cooks_distance"
   ]
  },
  {
   "cell_type": "code",
   "execution_count": 50,
   "metadata": {},
   "outputs": [
    {
     "data": {
      "image/png": "[encoded data removed]",
      "text/plain": [
       "<Figure size 1440x504 with 1 Axes>"
      ]
     },
     "metadata": {
      "needs_background": "light"
     },
     "output_type": "display_data"
    }
   ],
   "source": [
    "#Plot the influencers values using stem plot\n",
    "fig = plt.subplots(figsize=(20, 7))\n",
    "plt.stem(np.arange(len(data2)), np.round(c, 3))\n",
    "plt.xlabel('Row index')\n",
    "plt.ylabel('Cooks Distance')\n",
    "plt.show()"
   ]
  },
  {
   "cell_type": "code",
   "execution_count": 51,
   "metadata": {},
   "outputs": [
    {
     "data": {
      "text/plain": [
       "(48, 0.24352817571403917)"
      ]
     },
     "execution_count": 51,
     "metadata": {},
     "output_type": "execute_result"
    }
   ],
   "source": [
    "#index and value of influencer where c is more than .15\n",
    "(np.argmax(c),np.max(c))"
   ]
  },
  {
   "cell_type": "code",
   "execution_count": 52,
   "metadata": {},
   "outputs": [
    {
     "data": {
      "text/html": [
       "<div>\n",
       "<style scoped>\n",
       "    .dataframe tbody tr th:only-of-type {\n",
       "        vertical-align: middle;\n",
       "    }\n",
       "\n",
       "    .dataframe tbody tr th {\n",
       "        vertical-align: top;\n",
       "    }\n",
       "\n",
       "    .dataframe thead th {\n",
       "        text-align: right;\n",
       "    }\n",
       "</style>\n",
       "<table border=\"1\" class=\"dataframe\">\n",
       "  <thead>\n",
       "    <tr style=\"text-align: right;\">\n",
       "      <th></th>\n",
       "      <th>RnD</th>\n",
       "      <th>Admin</th>\n",
       "      <th>MS</th>\n",
       "      <th>Profit</th>\n",
       "      <th>CA</th>\n",
       "      <th>FL</th>\n",
       "      <th>NY</th>\n",
       "    </tr>\n",
       "  </thead>\n",
       "  <tbody>\n",
       "    <tr>\n",
       "      <th>48</th>\n",
       "      <td>542.05</td>\n",
       "      <td>51743.15</td>\n",
       "      <td>0.0</td>\n",
       "      <td>35673.41</td>\n",
       "      <td>0</td>\n",
       "      <td>0</td>\n",
       "      <td>1</td>\n",
       "    </tr>\n",
       "  </tbody>\n",
       "</table>\n",
       "</div>"
      ],
      "text/plain": [
       "       RnD     Admin   MS    Profit  CA  FL  NY\n",
       "48  542.05  51743.15  0.0  35673.41   0   0   1"
      ]
     },
     "execution_count": 52,
     "metadata": {},
     "output_type": "execute_result"
    }
   ],
   "source": [
    "#From the above plot, it is evident that data point 48 are the influencers\n",
    "data2[data2.index.isin([48])]"
   ]
  },
  {
   "cell_type": "code",
   "execution_count": 53,
   "metadata": {},
   "outputs": [
    {
     "data": {
      "text/html": [
       "<div>\n",
       "<style scoped>\n",
       "    .dataframe tbody tr th:only-of-type {\n",
       "        vertical-align: middle;\n",
       "    }\n",
       "\n",
       "    .dataframe tbody tr th {\n",
       "        vertical-align: top;\n",
       "    }\n",
       "\n",
       "    .dataframe thead th {\n",
       "        text-align: right;\n",
       "    }\n",
       "</style>\n",
       "<table border=\"1\" class=\"dataframe\">\n",
       "  <thead>\n",
       "    <tr style=\"text-align: right;\">\n",
       "      <th></th>\n",
       "      <th>index</th>\n",
       "      <th>RnD</th>\n",
       "      <th>Admin</th>\n",
       "      <th>MS</th>\n",
       "      <th>Profit</th>\n",
       "      <th>CA</th>\n",
       "      <th>FL</th>\n",
       "      <th>NY</th>\n",
       "    </tr>\n",
       "  </thead>\n",
       "  <tbody>\n",
       "    <tr>\n",
       "      <th>43</th>\n",
       "      <td>43</td>\n",
       "      <td>15505.73</td>\n",
       "      <td>127382.30</td>\n",
       "      <td>35534.17</td>\n",
       "      <td>69758.98</td>\n",
       "      <td>0</td>\n",
       "      <td>0</td>\n",
       "      <td>1</td>\n",
       "    </tr>\n",
       "    <tr>\n",
       "      <th>44</th>\n",
       "      <td>44</td>\n",
       "      <td>22177.74</td>\n",
       "      <td>154806.14</td>\n",
       "      <td>28334.72</td>\n",
       "      <td>65200.33</td>\n",
       "      <td>1</td>\n",
       "      <td>0</td>\n",
       "      <td>0</td>\n",
       "    </tr>\n",
       "    <tr>\n",
       "      <th>45</th>\n",
       "      <td>45</td>\n",
       "      <td>1000.23</td>\n",
       "      <td>124153.04</td>\n",
       "      <td>1903.93</td>\n",
       "      <td>64926.08</td>\n",
       "      <td>0</td>\n",
       "      <td>0</td>\n",
       "      <td>1</td>\n",
       "    </tr>\n",
       "    <tr>\n",
       "      <th>46</th>\n",
       "      <td>46</td>\n",
       "      <td>1315.46</td>\n",
       "      <td>115816.21</td>\n",
       "      <td>297114.46</td>\n",
       "      <td>49490.75</td>\n",
       "      <td>0</td>\n",
       "      <td>1</td>\n",
       "      <td>0</td>\n",
       "    </tr>\n",
       "    <tr>\n",
       "      <th>47</th>\n",
       "      <td>47</td>\n",
       "      <td>0.00</td>\n",
       "      <td>135426.92</td>\n",
       "      <td>0.00</td>\n",
       "      <td>42559.73</td>\n",
       "      <td>1</td>\n",
       "      <td>0</td>\n",
       "      <td>0</td>\n",
       "    </tr>\n",
       "  </tbody>\n",
       "</table>\n",
       "</div>"
      ],
      "text/plain": [
       "    index       RnD      Admin         MS    Profit  CA  FL  NY\n",
       "43     43  15505.73  127382.30   35534.17  69758.98   0   0   1\n",
       "44     44  22177.74  154806.14   28334.72  65200.33   1   0   0\n",
       "45     45   1000.23  124153.04    1903.93  64926.08   0   0   1\n",
       "46     46   1315.46  115816.21  297114.46  49490.75   0   1   0\n",
       "47     47      0.00  135426.92       0.00  42559.73   1   0   0"
      ]
     },
     "execution_count": 53,
     "metadata": {},
     "output_type": "execute_result"
    }
   ],
   "source": [
    "#Discard the data points which are influencers and reasign the row number (reset_index())\n",
    "\n",
    "data3=data2.drop(data2.index[[48]],axis=0).reset_index()\n",
    "data3.tail()"
   ]
  },
  {
   "cell_type": "code",
   "execution_count": 54,
   "metadata": {},
   "outputs": [
    {
     "data": {
      "text/html": [
       "<div>\n",
       "<style scoped>\n",
       "    .dataframe tbody tr th:only-of-type {\n",
       "        vertical-align: middle;\n",
       "    }\n",
       "\n",
       "    .dataframe tbody tr th {\n",
       "        vertical-align: top;\n",
       "    }\n",
       "\n",
       "    .dataframe thead th {\n",
       "        text-align: right;\n",
       "    }\n",
       "</style>\n",
       "<table border=\"1\" class=\"dataframe\">\n",
       "  <thead>\n",
       "    <tr style=\"text-align: right;\">\n",
       "      <th></th>\n",
       "      <th>RnD</th>\n",
       "      <th>Admin</th>\n",
       "      <th>MS</th>\n",
       "      <th>Profit</th>\n",
       "      <th>CA</th>\n",
       "      <th>FL</th>\n",
       "      <th>NY</th>\n",
       "    </tr>\n",
       "  </thead>\n",
       "  <tbody>\n",
       "    <tr>\n",
       "      <th>0</th>\n",
       "      <td>165349.20</td>\n",
       "      <td>136897.80</td>\n",
       "      <td>471784.10</td>\n",
       "      <td>192261.83</td>\n",
       "      <td>0</td>\n",
       "      <td>0</td>\n",
       "      <td>1</td>\n",
       "    </tr>\n",
       "    <tr>\n",
       "      <th>1</th>\n",
       "      <td>162597.70</td>\n",
       "      <td>151377.59</td>\n",
       "      <td>443898.53</td>\n",
       "      <td>191792.06</td>\n",
       "      <td>1</td>\n",
       "      <td>0</td>\n",
       "      <td>0</td>\n",
       "    </tr>\n",
       "    <tr>\n",
       "      <th>2</th>\n",
       "      <td>153441.51</td>\n",
       "      <td>101145.55</td>\n",
       "      <td>407934.54</td>\n",
       "      <td>191050.39</td>\n",
       "      <td>0</td>\n",
       "      <td>1</td>\n",
       "      <td>0</td>\n",
       "    </tr>\n",
       "    <tr>\n",
       "      <th>3</th>\n",
       "      <td>144372.41</td>\n",
       "      <td>118671.85</td>\n",
       "      <td>383199.62</td>\n",
       "      <td>182901.99</td>\n",
       "      <td>0</td>\n",
       "      <td>0</td>\n",
       "      <td>1</td>\n",
       "    </tr>\n",
       "    <tr>\n",
       "      <th>4</th>\n",
       "      <td>142107.34</td>\n",
       "      <td>91391.77</td>\n",
       "      <td>366168.42</td>\n",
       "      <td>166187.94</td>\n",
       "      <td>0</td>\n",
       "      <td>1</td>\n",
       "      <td>0</td>\n",
       "    </tr>\n",
       "  </tbody>\n",
       "</table>\n",
       "</div>"
      ],
      "text/plain": [
       "         RnD      Admin         MS     Profit  CA  FL  NY\n",
       "0  165349.20  136897.80  471784.10  192261.83   0   0   1\n",
       "1  162597.70  151377.59  443898.53  191792.06   1   0   0\n",
       "2  153441.51  101145.55  407934.54  191050.39   0   1   0\n",
       "3  144372.41  118671.85  383199.62  182901.99   0   0   1\n",
       "4  142107.34   91391.77  366168.42  166187.94   0   1   0"
      ]
     },
     "execution_count": 54,
     "metadata": {},
     "output_type": "execute_result"
    }
   ],
   "source": [
    "#Drop the original index\n",
    "data3 = data3.drop(['index'],axis=1)\n",
    "data3.head()"
   ]
  },
  {
   "cell_type": "code",
   "execution_count": null,
   "metadata": {},
   "outputs": [],
   "source": []
  },
  {
   "cell_type": "code",
   "execution_count": 55,
   "metadata": {},
   "outputs": [],
   "source": [
    "model3 = smf.ols('Profit~RnD+Admin+MS+CA+FL+NY',data=data3).fit()"
   ]
  },
  {
   "cell_type": "code",
   "execution_count": 56,
   "metadata": {},
   "outputs": [
    {
     "data": {
      "text/html": [
       "<table class=\"simpletable\">\n",
       "<caption>OLS Regression Results</caption>\n",
       "<tr>\n",
       "  <th>Dep. Variable:</th>         <td>Profit</td>      <th>  R-squared:         </th> <td>   0.963</td>\n",
       "</tr>\n",
       "<tr>\n",
       "  <th>Model:</th>                   <td>OLS</td>       <th>  Adj. R-squared:    </th> <td>   0.958</td>\n",
       "</tr>\n",
       "<tr>\n",
       "  <th>Method:</th>             <td>Least Squares</td>  <th>  F-statistic:       </th> <td>   217.6</td>\n",
       "</tr>\n",
       "<tr>\n",
       "  <th>Date:</th>             <td>Thu, 10 Jun 2021</td> <th>  Prob (F-statistic):</th> <td>7.02e-29</td>\n",
       "</tr>\n",
       "<tr>\n",
       "  <th>Time:</th>                 <td>17:52:55</td>     <th>  Log-Likelihood:    </th> <td> -493.23</td>\n",
       "</tr>\n",
       "<tr>\n",
       "  <th>No. Observations:</th>      <td>    48</td>      <th>  AIC:               </th> <td>   998.5</td>\n",
       "</tr>\n",
       "<tr>\n",
       "  <th>Df Residuals:</th>          <td>    42</td>      <th>  BIC:               </th> <td>   1010.</td>\n",
       "</tr>\n",
       "<tr>\n",
       "  <th>Df Model:</th>              <td>     5</td>      <th>                     </th>     <td> </td>   \n",
       "</tr>\n",
       "<tr>\n",
       "  <th>Covariance Type:</th>      <td>nonrobust</td>    <th>                     </th>     <td> </td>   \n",
       "</tr>\n",
       "</table>\n",
       "<table class=\"simpletable\">\n",
       "<tr>\n",
       "      <td></td>         <th>coef</th>     <th>std err</th>      <th>t</th>      <th>P>|t|</th>  <th>[0.025</th>    <th>0.975]</th>  \n",
       "</tr>\n",
       "<tr>\n",
       "  <th>Intercept</th> <td> 4.409e+04</td> <td> 4569.825</td> <td>    9.648</td> <td> 0.000</td> <td> 3.49e+04</td> <td> 5.33e+04</td>\n",
       "</tr>\n",
       "<tr>\n",
       "  <th>RnD</th>       <td>    0.7888</td> <td>    0.037</td> <td>   21.160</td> <td> 0.000</td> <td>    0.714</td> <td>    0.864</td>\n",
       "</tr>\n",
       "<tr>\n",
       "  <th>Admin</th>     <td>   -0.0621</td> <td>    0.045</td> <td>   -1.381</td> <td> 0.174</td> <td>   -0.153</td> <td>    0.029</td>\n",
       "</tr>\n",
       "<tr>\n",
       "  <th>MS</th>        <td>    0.0179</td> <td>    0.014</td> <td>    1.275</td> <td> 0.209</td> <td>   -0.010</td> <td>    0.046</td>\n",
       "</tr>\n",
       "<tr>\n",
       "  <th>CA</th>        <td>  1.53e+04</td> <td> 2035.915</td> <td>    7.516</td> <td> 0.000</td> <td> 1.12e+04</td> <td> 1.94e+04</td>\n",
       "</tr>\n",
       "<tr>\n",
       "  <th>FL</th>        <td> 1.415e+04</td> <td> 2261.128</td> <td>    6.259</td> <td> 0.000</td> <td> 9588.163</td> <td> 1.87e+04</td>\n",
       "</tr>\n",
       "<tr>\n",
       "  <th>NY</th>        <td> 1.464e+04</td> <td> 2223.793</td> <td>    6.581</td> <td> 0.000</td> <td> 1.01e+04</td> <td> 1.91e+04</td>\n",
       "</tr>\n",
       "</table>\n",
       "<table class=\"simpletable\">\n",
       "<tr>\n",
       "  <th>Omnibus:</th>       <td> 0.267</td> <th>  Durbin-Watson:     </th> <td>   1.835</td>\n",
       "</tr>\n",
       "<tr>\n",
       "  <th>Prob(Omnibus):</th> <td> 0.875</td> <th>  Jarque-Bera (JB):  </th> <td>   0.453</td>\n",
       "</tr>\n",
       "<tr>\n",
       "  <th>Skew:</th>          <td> 0.108</td> <th>  Prob(JB):          </th> <td>   0.797</td>\n",
       "</tr>\n",
       "<tr>\n",
       "  <th>Kurtosis:</th>      <td> 2.576</td> <th>  Cond. No.          </th> <td>1.39e+21</td>\n",
       "</tr>\n",
       "</table><br/><br/>Warnings:<br/>[1] Standard Errors assume that the covariance matrix of the errors is correctly specified.<br/>[2] The smallest eigenvalue is  2e-30. This might indicate that there are<br/>strong multicollinearity problems or that the design matrix is singular."
      ],
      "text/plain": [
       "<class 'statsmodels.iolib.summary.Summary'>\n",
       "\"\"\"\n",
       "                            OLS Regression Results                            \n",
       "==============================================================================\n",
       "Dep. Variable:                 Profit   R-squared:                       0.963\n",
       "Model:                            OLS   Adj. R-squared:                  0.958\n",
       "Method:                 Least Squares   F-statistic:                     217.6\n",
       "Date:                Thu, 10 Jun 2021   Prob (F-statistic):           7.02e-29\n",
       "Time:                        17:52:55   Log-Likelihood:                -493.23\n",
       "No. Observations:                  48   AIC:                             998.5\n",
       "Df Residuals:                      42   BIC:                             1010.\n",
       "Df Model:                           5                                         \n",
       "Covariance Type:            nonrobust                                         \n",
       "==============================================================================\n",
       "                 coef    std err          t      P>|t|      [0.025      0.975]\n",
       "------------------------------------------------------------------------------\n",
       "Intercept   4.409e+04   4569.825      9.648      0.000    3.49e+04    5.33e+04\n",
       "RnD            0.7888      0.037     21.160      0.000       0.714       0.864\n",
       "Admin         -0.0621      0.045     -1.381      0.174      -0.153       0.029\n",
       "MS             0.0179      0.014      1.275      0.209      -0.010       0.046\n",
       "CA           1.53e+04   2035.915      7.516      0.000    1.12e+04    1.94e+04\n",
       "FL          1.415e+04   2261.128      6.259      0.000    9588.163    1.87e+04\n",
       "NY          1.464e+04   2223.793      6.581      0.000    1.01e+04    1.91e+04\n",
       "==============================================================================\n",
       "Omnibus:                        0.267   Durbin-Watson:                   1.835\n",
       "Prob(Omnibus):                  0.875   Jarque-Bera (JB):                0.453\n",
       "Skew:                           0.108   Prob(JB):                        0.797\n",
       "Kurtosis:                       2.576   Cond. No.                     1.39e+21\n",
       "==============================================================================\n",
       "\n",
       "Warnings:\n",
       "[1] Standard Errors assume that the covariance matrix of the errors is correctly specified.\n",
       "[2] The smallest eigenvalue is  2e-30. This might indicate that there are\n",
       "strong multicollinearity problems or that the design matrix is singular.\n",
       "\"\"\""
      ]
     },
     "execution_count": 56,
     "metadata": {},
     "output_type": "execute_result"
    }
   ],
   "source": [
    "model3.summary()"
   ]
  },
  {
   "cell_type": "code",
   "execution_count": 57,
   "metadata": {},
   "outputs": [],
   "source": [
    "#Rsquared value has increased, ms and admin are still insignificant"
   ]
  },
  {
   "cell_type": "code",
   "execution_count": null,
   "metadata": {},
   "outputs": [],
   "source": []
  },
  {
   "cell_type": "markdown",
   "metadata": {},
   "source": [
    "### Iteration - 3"
   ]
  },
  {
   "cell_type": "code",
   "execution_count": 58,
   "metadata": {},
   "outputs": [],
   "source": [
    "model_influence = model3.get_influence()\n",
    "(c, _) = model_influence.cooks_distance"
   ]
  },
  {
   "cell_type": "code",
   "execution_count": 59,
   "metadata": {},
   "outputs": [
    {
     "data": {
      "image/png": "[encoded data removed]",
      "text/plain": [
       "<Figure size 1440x504 with 1 Axes>"
      ]
     },
     "metadata": {
      "needs_background": "light"
     },
     "output_type": "display_data"
    }
   ],
   "source": [
    "#Plot the influencers values using stem plot\n",
    "fig = plt.subplots(figsize=(20, 7))\n",
    "plt.stem(np.arange(len(data3)), np.round(c, 3))\n",
    "plt.xlabel('Row index')\n",
    "plt.ylabel('Cooks Distance')\n",
    "plt.show()"
   ]
  },
  {
   "cell_type": "markdown",
   "metadata": {},
   "source": [
    "### Since cook's distance of most of the points seems to lie in the same range and only slight change in R value in model 3 from model 2  we can stop the diagnostic process and finalize the model"
   ]
  },
  {
   "cell_type": "code",
   "execution_count": null,
   "metadata": {},
   "outputs": [],
   "source": []
  },
  {
   "cell_type": "markdown",
   "metadata": {},
   "source": [
    "### Checking the model by predicting the profit of the same data set and comparing it with actual values"
   ]
  },
  {
   "cell_type": "code",
   "execution_count": 60,
   "metadata": {},
   "outputs": [],
   "source": [
    "pred_profit = pd.DataFrame (model3.predict(data3), columns=['Predict_Profit'])"
   ]
  },
  {
   "cell_type": "code",
   "execution_count": 61,
   "metadata": {},
   "outputs": [
    {
     "data": {
      "text/html": [
       "<div>\n",
       "<style scoped>\n",
       "    .dataframe tbody tr th:only-of-type {\n",
       "        vertical-align: middle;\n",
       "    }\n",
       "\n",
       "    .dataframe tbody tr th {\n",
       "        vertical-align: top;\n",
       "    }\n",
       "\n",
       "    .dataframe thead th {\n",
       "        text-align: right;\n",
       "    }\n",
       "</style>\n",
       "<table border=\"1\" class=\"dataframe\">\n",
       "  <thead>\n",
       "    <tr style=\"text-align: right;\">\n",
       "      <th></th>\n",
       "      <th>Predict_Profit</th>\n",
       "    </tr>\n",
       "  </thead>\n",
       "  <tbody>\n",
       "    <tr>\n",
       "      <th>0</th>\n",
       "      <td>189087.074698</td>\n",
       "    </tr>\n",
       "    <tr>\n",
       "      <th>1</th>\n",
       "      <td>186183.370112</td>\n",
       "    </tr>\n",
       "    <tr>\n",
       "      <th>2</th>\n",
       "      <td>180288.581217</td>\n",
       "    </tr>\n",
       "    <tr>\n",
       "      <th>3</th>\n",
       "      <td>172087.545967</td>\n",
       "    </tr>\n",
       "    <tr>\n",
       "      <th>4</th>\n",
       "      <td>171206.768166</td>\n",
       "    </tr>\n",
       "  </tbody>\n",
       "</table>\n",
       "</div>"
      ],
      "text/plain": [
       "   Predict_Profit\n",
       "0   189087.074698\n",
       "1   186183.370112\n",
       "2   180288.581217\n",
       "3   172087.545967\n",
       "4   171206.768166"
      ]
     },
     "execution_count": 61,
     "metadata": {},
     "output_type": "execute_result"
    }
   ],
   "source": [
    "pred_profit.head()"
   ]
  },
  {
   "cell_type": "code",
   "execution_count": 62,
   "metadata": {},
   "outputs": [],
   "source": [
    "Actual_Profit = data3['Profit']"
   ]
  },
  {
   "cell_type": "code",
   "execution_count": 63,
   "metadata": {},
   "outputs": [],
   "source": [
    "pred_profit1 = pd.concat([Actual_Profit, pred_profit], axis=1)"
   ]
  },
  {
   "cell_type": "code",
   "execution_count": 64,
   "metadata": {},
   "outputs": [
    {
     "data": {
      "text/html": [
       "<div>\n",
       "<style scoped>\n",
       "    .dataframe tbody tr th:only-of-type {\n",
       "        vertical-align: middle;\n",
       "    }\n",
       "\n",
       "    .dataframe tbody tr th {\n",
       "        vertical-align: top;\n",
       "    }\n",
       "\n",
       "    .dataframe thead th {\n",
       "        text-align: right;\n",
       "    }\n",
       "</style>\n",
       "<table border=\"1\" class=\"dataframe\">\n",
       "  <thead>\n",
       "    <tr style=\"text-align: right;\">\n",
       "      <th></th>\n",
       "      <th>Profit</th>\n",
       "      <th>Predict_Profit</th>\n",
       "    </tr>\n",
       "  </thead>\n",
       "  <tbody>\n",
       "    <tr>\n",
       "      <th>0</th>\n",
       "      <td>192261.83</td>\n",
       "      <td>189087.074698</td>\n",
       "    </tr>\n",
       "    <tr>\n",
       "      <th>1</th>\n",
       "      <td>191792.06</td>\n",
       "      <td>186183.370112</td>\n",
       "    </tr>\n",
       "    <tr>\n",
       "      <th>2</th>\n",
       "      <td>191050.39</td>\n",
       "      <td>180288.581217</td>\n",
       "    </tr>\n",
       "    <tr>\n",
       "      <th>3</th>\n",
       "      <td>182901.99</td>\n",
       "      <td>172087.545967</td>\n",
       "    </tr>\n",
       "    <tr>\n",
       "      <th>4</th>\n",
       "      <td>166187.94</td>\n",
       "      <td>171206.768166</td>\n",
       "    </tr>\n",
       "  </tbody>\n",
       "</table>\n",
       "</div>"
      ],
      "text/plain": [
       "      Profit  Predict_Profit\n",
       "0  192261.83   189087.074698\n",
       "1  191792.06   186183.370112\n",
       "2  191050.39   180288.581217\n",
       "3  182901.99   172087.545967\n",
       "4  166187.94   171206.768166"
      ]
     },
     "execution_count": 64,
     "metadata": {},
     "output_type": "execute_result"
    }
   ],
   "source": [
    "pred_profit1.head()"
   ]
  },
  {
   "cell_type": "code",
   "execution_count": 65,
   "metadata": {},
   "outputs": [
    {
     "data": {
      "text/html": [
       "<div>\n",
       "<style scoped>\n",
       "    .dataframe tbody tr th:only-of-type {\n",
       "        vertical-align: middle;\n",
       "    }\n",
       "\n",
       "    .dataframe tbody tr th {\n",
       "        vertical-align: top;\n",
       "    }\n",
       "\n",
       "    .dataframe thead th {\n",
       "        text-align: right;\n",
       "    }\n",
       "</style>\n",
       "<table border=\"1\" class=\"dataframe\">\n",
       "  <thead>\n",
       "    <tr style=\"text-align: right;\">\n",
       "      <th></th>\n",
       "      <th>Error</th>\n",
       "    </tr>\n",
       "  </thead>\n",
       "  <tbody>\n",
       "    <tr>\n",
       "      <th>0</th>\n",
       "      <td>-0.016513</td>\n",
       "    </tr>\n",
       "    <tr>\n",
       "      <th>1</th>\n",
       "      <td>-0.029244</td>\n",
       "    </tr>\n",
       "    <tr>\n",
       "      <th>2</th>\n",
       "      <td>-0.056330</td>\n",
       "    </tr>\n",
       "    <tr>\n",
       "      <th>3</th>\n",
       "      <td>-0.059127</td>\n",
       "    </tr>\n",
       "    <tr>\n",
       "      <th>4</th>\n",
       "      <td>0.030200</td>\n",
       "    </tr>\n",
       "  </tbody>\n",
       "</table>\n",
       "</div>"
      ],
      "text/plain": [
       "      Error\n",
       "0 -0.016513\n",
       "1 -0.029244\n",
       "2 -0.056330\n",
       "3 -0.059127\n",
       "4  0.030200"
      ]
     },
     "execution_count": 65,
     "metadata": {},
     "output_type": "execute_result"
    }
   ],
   "source": [
    "Error = pd.DataFrame (((pred_profit1['Predict_Profit']- pred_profit1['Profit'])/pred_profit1['Profit']), columns=['Error'])\n",
    "Error.head()"
   ]
  },
  {
   "cell_type": "code",
   "execution_count": 66,
   "metadata": {},
   "outputs": [
    {
     "data": {
      "text/html": [
       "<div>\n",
       "<style scoped>\n",
       "    .dataframe tbody tr th:only-of-type {\n",
       "        vertical-align: middle;\n",
       "    }\n",
       "\n",
       "    .dataframe tbody tr th {\n",
       "        vertical-align: top;\n",
       "    }\n",
       "\n",
       "    .dataframe thead th {\n",
       "        text-align: right;\n",
       "    }\n",
       "</style>\n",
       "<table border=\"1\" class=\"dataframe\">\n",
       "  <thead>\n",
       "    <tr style=\"text-align: right;\">\n",
       "      <th></th>\n",
       "      <th>Profit</th>\n",
       "      <th>Predict_Profit</th>\n",
       "      <th>Error</th>\n",
       "    </tr>\n",
       "  </thead>\n",
       "  <tbody>\n",
       "    <tr>\n",
       "      <th>0</th>\n",
       "      <td>192261.83</td>\n",
       "      <td>189087.074698</td>\n",
       "      <td>-0.016513</td>\n",
       "    </tr>\n",
       "    <tr>\n",
       "      <th>1</th>\n",
       "      <td>191792.06</td>\n",
       "      <td>186183.370112</td>\n",
       "      <td>-0.029244</td>\n",
       "    </tr>\n",
       "    <tr>\n",
       "      <th>2</th>\n",
       "      <td>191050.39</td>\n",
       "      <td>180288.581217</td>\n",
       "      <td>-0.056330</td>\n",
       "    </tr>\n",
       "    <tr>\n",
       "      <th>3</th>\n",
       "      <td>182901.99</td>\n",
       "      <td>172087.545967</td>\n",
       "      <td>-0.059127</td>\n",
       "    </tr>\n",
       "    <tr>\n",
       "      <th>4</th>\n",
       "      <td>166187.94</td>\n",
       "      <td>171206.768166</td>\n",
       "      <td>0.030200</td>\n",
       "    </tr>\n",
       "  </tbody>\n",
       "</table>\n",
       "</div>"
      ],
      "text/plain": [
       "      Profit  Predict_Profit     Error\n",
       "0  192261.83   189087.074698 -0.016513\n",
       "1  191792.06   186183.370112 -0.029244\n",
       "2  191050.39   180288.581217 -0.056330\n",
       "3  182901.99   172087.545967 -0.059127\n",
       "4  166187.94   171206.768166  0.030200"
      ]
     },
     "execution_count": 66,
     "metadata": {},
     "output_type": "execute_result"
    }
   ],
   "source": [
    "result = pd.concat ([pred_profit1, Error], axis=1)\n",
    "result.head()"
   ]
  },
  {
   "cell_type": "code",
   "execution_count": 67,
   "metadata": {},
   "outputs": [
    {
     "data": {
      "text/html": [
       "<style  type=\"text/css\" >\n",
       "</style><table id=\"T_971bac84_c9e6_11eb_8016_80e82c916367\" ><thead>    <tr>        <th class=\"blank level0\" ></th>        <th class=\"col_heading level0 col0\" >Profit</th>        <th class=\"col_heading level0 col1\" >Predict_Profit</th>        <th class=\"col_heading level0 col2\" >Error</th>    </tr></thead><tbody>\n",
       "                <tr>\n",
       "                        <th id=\"T_971bac84_c9e6_11eb_8016_80e82c916367level0_row0\" class=\"row_heading level0 row0\" >0</th>\n",
       "                        <td id=\"T_971bac84_c9e6_11eb_8016_80e82c916367row0_col0\" class=\"data row0 col0\" >192261.83</td>\n",
       "                        <td id=\"T_971bac84_c9e6_11eb_8016_80e82c916367row0_col1\" class=\"data row0 col1\" >189087.07</td>\n",
       "                        <td id=\"T_971bac84_c9e6_11eb_8016_80e82c916367row0_col2\" class=\"data row0 col2\" >-1.65%</td>\n",
       "            </tr>\n",
       "            <tr>\n",
       "                        <th id=\"T_971bac84_c9e6_11eb_8016_80e82c916367level0_row1\" class=\"row_heading level0 row1\" >1</th>\n",
       "                        <td id=\"T_971bac84_c9e6_11eb_8016_80e82c916367row1_col0\" class=\"data row1 col0\" >191792.06</td>\n",
       "                        <td id=\"T_971bac84_c9e6_11eb_8016_80e82c916367row1_col1\" class=\"data row1 col1\" >186183.37</td>\n",
       "                        <td id=\"T_971bac84_c9e6_11eb_8016_80e82c916367row1_col2\" class=\"data row1 col2\" >-2.92%</td>\n",
       "            </tr>\n",
       "            <tr>\n",
       "                        <th id=\"T_971bac84_c9e6_11eb_8016_80e82c916367level0_row2\" class=\"row_heading level0 row2\" >2</th>\n",
       "                        <td id=\"T_971bac84_c9e6_11eb_8016_80e82c916367row2_col0\" class=\"data row2 col0\" >191050.39</td>\n",
       "                        <td id=\"T_971bac84_c9e6_11eb_8016_80e82c916367row2_col1\" class=\"data row2 col1\" >180288.58</td>\n",
       "                        <td id=\"T_971bac84_c9e6_11eb_8016_80e82c916367row2_col2\" class=\"data row2 col2\" >-5.63%</td>\n",
       "            </tr>\n",
       "            <tr>\n",
       "                        <th id=\"T_971bac84_c9e6_11eb_8016_80e82c916367level0_row3\" class=\"row_heading level0 row3\" >3</th>\n",
       "                        <td id=\"T_971bac84_c9e6_11eb_8016_80e82c916367row3_col0\" class=\"data row3 col0\" >182901.99</td>\n",
       "                        <td id=\"T_971bac84_c9e6_11eb_8016_80e82c916367row3_col1\" class=\"data row3 col1\" >172087.55</td>\n",
       "                        <td id=\"T_971bac84_c9e6_11eb_8016_80e82c916367row3_col2\" class=\"data row3 col2\" >-5.91%</td>\n",
       "            </tr>\n",
       "            <tr>\n",
       "                        <th id=\"T_971bac84_c9e6_11eb_8016_80e82c916367level0_row4\" class=\"row_heading level0 row4\" >4</th>\n",
       "                        <td id=\"T_971bac84_c9e6_11eb_8016_80e82c916367row4_col0\" class=\"data row4 col0\" >166187.94</td>\n",
       "                        <td id=\"T_971bac84_c9e6_11eb_8016_80e82c916367row4_col1\" class=\"data row4 col1\" >171206.77</td>\n",
       "                        <td id=\"T_971bac84_c9e6_11eb_8016_80e82c916367row4_col2\" class=\"data row4 col2\" >3.02%</td>\n",
       "            </tr>\n",
       "            <tr>\n",
       "                        <th id=\"T_971bac84_c9e6_11eb_8016_80e82c916367level0_row5\" class=\"row_heading level0 row5\" >5</th>\n",
       "                        <td id=\"T_971bac84_c9e6_11eb_8016_80e82c916367row5_col0\" class=\"data row5 col0\" >156991.12</td>\n",
       "                        <td id=\"T_971bac84_c9e6_11eb_8016_80e82c916367row5_col1\" class=\"data row5 col1\" >163039.18</td>\n",
       "                        <td id=\"T_971bac84_c9e6_11eb_8016_80e82c916367row5_col2\" class=\"data row5 col2\" >3.85%</td>\n",
       "            </tr>\n",
       "            <tr>\n",
       "                        <th id=\"T_971bac84_c9e6_11eb_8016_80e82c916367level0_row6\" class=\"row_heading level0 row6\" >6</th>\n",
       "                        <td id=\"T_971bac84_c9e6_11eb_8016_80e82c916367row6_col0\" class=\"data row6 col0\" >156122.51</td>\n",
       "                        <td id=\"T_971bac84_c9e6_11eb_8016_80e82c916367row6_col1\" class=\"data row6 col1\" >158709.12</td>\n",
       "                        <td id=\"T_971bac84_c9e6_11eb_8016_80e82c916367row6_col2\" class=\"data row6 col2\" >1.66%</td>\n",
       "            </tr>\n",
       "            <tr>\n",
       "                        <th id=\"T_971bac84_c9e6_11eb_8016_80e82c916367level0_row7\" class=\"row_heading level0 row7\" >7</th>\n",
       "                        <td id=\"T_971bac84_c9e6_11eb_8016_80e82c916367row7_col0\" class=\"data row7 col0\" >155752.60</td>\n",
       "                        <td id=\"T_971bac84_c9e6_11eb_8016_80e82c916367row7_col1\" class=\"data row7 col1\" >157770.47</td>\n",
       "                        <td id=\"T_971bac84_c9e6_11eb_8016_80e82c916367row7_col2\" class=\"data row7 col2\" >1.30%</td>\n",
       "            </tr>\n",
       "            <tr>\n",
       "                        <th id=\"T_971bac84_c9e6_11eb_8016_80e82c916367level0_row8\" class=\"row_heading level0 row8\" >8</th>\n",
       "                        <td id=\"T_971bac84_c9e6_11eb_8016_80e82c916367row8_col0\" class=\"data row8 col0\" >152211.77</td>\n",
       "                        <td id=\"T_971bac84_c9e6_11eb_8016_80e82c916367row8_col1\" class=\"data row8 col1\" >150142.26</td>\n",
       "                        <td id=\"T_971bac84_c9e6_11eb_8016_80e82c916367row8_col2\" class=\"data row8 col2\" >-1.36%</td>\n",
       "            </tr>\n",
       "            <tr>\n",
       "                        <th id=\"T_971bac84_c9e6_11eb_8016_80e82c916367level0_row9\" class=\"row_heading level0 row9\" >9</th>\n",
       "                        <td id=\"T_971bac84_c9e6_11eb_8016_80e82c916367row9_col0\" class=\"data row9 col0\" >149759.96</td>\n",
       "                        <td id=\"T_971bac84_c9e6_11eb_8016_80e82c916367row9_col1\" class=\"data row9 col1\" >155379.92</td>\n",
       "                        <td id=\"T_971bac84_c9e6_11eb_8016_80e82c916367row9_col2\" class=\"data row9 col2\" >3.75%</td>\n",
       "            </tr>\n",
       "            <tr>\n",
       "                        <th id=\"T_971bac84_c9e6_11eb_8016_80e82c916367level0_row10\" class=\"row_heading level0 row10\" >10</th>\n",
       "                        <td id=\"T_971bac84_c9e6_11eb_8016_80e82c916367row10_col0\" class=\"data row10 col0\" >146121.95</td>\n",
       "                        <td id=\"T_971bac84_c9e6_11eb_8016_80e82c916367row10_col1\" class=\"data row10 col1\" >135856.20</td>\n",
       "                        <td id=\"T_971bac84_c9e6_11eb_8016_80e82c916367row10_col2\" class=\"data row10 col2\" >-7.03%</td>\n",
       "            </tr>\n",
       "            <tr>\n",
       "                        <th id=\"T_971bac84_c9e6_11eb_8016_80e82c916367level0_row11\" class=\"row_heading level0 row11\" >11</th>\n",
       "                        <td id=\"T_971bac84_c9e6_11eb_8016_80e82c916367row11_col0\" class=\"data row11 col0\" >144259.40</td>\n",
       "                        <td id=\"T_971bac84_c9e6_11eb_8016_80e82c916367row11_col1\" class=\"data row11 col1\" >137564.58</td>\n",
       "                        <td id=\"T_971bac84_c9e6_11eb_8016_80e82c916367row11_col2\" class=\"data row11 col2\" >-4.64%</td>\n",
       "            </tr>\n",
       "            <tr>\n",
       "                        <th id=\"T_971bac84_c9e6_11eb_8016_80e82c916367level0_row12\" class=\"row_heading level0 row12\" >12</th>\n",
       "                        <td id=\"T_971bac84_c9e6_11eb_8016_80e82c916367row12_col0\" class=\"data row12 col0\" >141585.52</td>\n",
       "                        <td id=\"T_971bac84_c9e6_11eb_8016_80e82c916367row12_col1\" class=\"data row12 col1\" >128838.17</td>\n",
       "                        <td id=\"T_971bac84_c9e6_11eb_8016_80e82c916367row12_col2\" class=\"data row12 col2\" >-9.00%</td>\n",
       "            </tr>\n",
       "            <tr>\n",
       "                        <th id=\"T_971bac84_c9e6_11eb_8016_80e82c916367level0_row13\" class=\"row_heading level0 row13\" >13</th>\n",
       "                        <td id=\"T_971bac84_c9e6_11eb_8016_80e82c916367row13_col0\" class=\"data row13 col0\" >134307.35</td>\n",
       "                        <td id=\"T_971bac84_c9e6_11eb_8016_80e82c916367row13_col1\" class=\"data row13 col1\" >128054.92</td>\n",
       "                        <td id=\"T_971bac84_c9e6_11eb_8016_80e82c916367row13_col2\" class=\"data row13 col2\" >-4.66%</td>\n",
       "            </tr>\n",
       "            <tr>\n",
       "                        <th id=\"T_971bac84_c9e6_11eb_8016_80e82c916367level0_row14\" class=\"row_heading level0 row14\" >14</th>\n",
       "                        <td id=\"T_971bac84_c9e6_11eb_8016_80e82c916367row14_col0\" class=\"data row14 col0\" >132602.65</td>\n",
       "                        <td id=\"T_971bac84_c9e6_11eb_8016_80e82c916367row14_col1\" class=\"data row14 col1\" >147711.86</td>\n",
       "                        <td id=\"T_971bac84_c9e6_11eb_8016_80e82c916367row14_col2\" class=\"data row14 col2\" >11.39%</td>\n",
       "            </tr>\n",
       "            <tr>\n",
       "                        <th id=\"T_971bac84_c9e6_11eb_8016_80e82c916367level0_row15\" class=\"row_heading level0 row15\" >15</th>\n",
       "                        <td id=\"T_971bac84_c9e6_11eb_8016_80e82c916367row15_col0\" class=\"data row15 col0\" >129917.04</td>\n",
       "                        <td id=\"T_971bac84_c9e6_11eb_8016_80e82c916367row15_col1\" class=\"data row15 col1\" >146124.27</td>\n",
       "                        <td id=\"T_971bac84_c9e6_11eb_8016_80e82c916367row15_col2\" class=\"data row15 col2\" >12.48%</td>\n",
       "            </tr>\n",
       "            <tr>\n",
       "                        <th id=\"T_971bac84_c9e6_11eb_8016_80e82c916367level0_row16\" class=\"row_heading level0 row16\" >16</th>\n",
       "                        <td id=\"T_971bac84_c9e6_11eb_8016_80e82c916367row16_col0\" class=\"data row16 col0\" >126992.93</td>\n",
       "                        <td id=\"T_971bac84_c9e6_11eb_8016_80e82c916367row16_col1\" class=\"data row16 col1\" >118101.48</td>\n",
       "                        <td id=\"T_971bac84_c9e6_11eb_8016_80e82c916367row16_col2\" class=\"data row16 col2\" >-7.00%</td>\n",
       "            </tr>\n",
       "            <tr>\n",
       "                        <th id=\"T_971bac84_c9e6_11eb_8016_80e82c916367level0_row17\" class=\"row_heading level0 row17\" >17</th>\n",
       "                        <td id=\"T_971bac84_c9e6_11eb_8016_80e82c916367row17_col0\" class=\"data row17 col0\" >125370.37</td>\n",
       "                        <td id=\"T_971bac84_c9e6_11eb_8016_80e82c916367row17_col1\" class=\"data row17 col1\" >129431.18</td>\n",
       "                        <td id=\"T_971bac84_c9e6_11eb_8016_80e82c916367row17_col2\" class=\"data row17 col2\" >3.24%</td>\n",
       "            </tr>\n",
       "            <tr>\n",
       "                        <th id=\"T_971bac84_c9e6_11eb_8016_80e82c916367level0_row18\" class=\"row_heading level0 row18\" >18</th>\n",
       "                        <td id=\"T_971bac84_c9e6_11eb_8016_80e82c916367row18_col0\" class=\"data row18 col0\" >124266.90</td>\n",
       "                        <td id=\"T_971bac84_c9e6_11eb_8016_80e82c916367row18_col1\" class=\"data row18 col1\" >128794.47</td>\n",
       "                        <td id=\"T_971bac84_c9e6_11eb_8016_80e82c916367row18_col2\" class=\"data row18 col2\" >3.64%</td>\n",
       "            </tr>\n",
       "            <tr>\n",
       "                        <th id=\"T_971bac84_c9e6_11eb_8016_80e82c916367level0_row19\" class=\"row_heading level0 row19\" >19</th>\n",
       "                        <td id=\"T_971bac84_c9e6_11eb_8016_80e82c916367row19_col0\" class=\"data row19 col0\" >122776.86</td>\n",
       "                        <td id=\"T_971bac84_c9e6_11eb_8016_80e82c916367row19_col1\" class=\"data row19 col1\" >117348.74</td>\n",
       "                        <td id=\"T_971bac84_c9e6_11eb_8016_80e82c916367row19_col2\" class=\"data row19 col2\" >-4.42%</td>\n",
       "            </tr>\n",
       "            <tr>\n",
       "                        <th id=\"T_971bac84_c9e6_11eb_8016_80e82c916367level0_row20\" class=\"row_heading level0 row20\" >20</th>\n",
       "                        <td id=\"T_971bac84_c9e6_11eb_8016_80e82c916367row20_col0\" class=\"data row20 col0\" >118474.03</td>\n",
       "                        <td id=\"T_971bac84_c9e6_11eb_8016_80e82c916367row20_col1\" class=\"data row20 col1\" >117808.86</td>\n",
       "                        <td id=\"T_971bac84_c9e6_11eb_8016_80e82c916367row20_col2\" class=\"data row20 col2\" >-0.56%</td>\n",
       "            </tr>\n",
       "            <tr>\n",
       "                        <th id=\"T_971bac84_c9e6_11eb_8016_80e82c916367level0_row21\" class=\"row_heading level0 row21\" >21</th>\n",
       "                        <td id=\"T_971bac84_c9e6_11eb_8016_80e82c916367row21_col0\" class=\"data row21 col0\" >111313.02</td>\n",
       "                        <td id=\"T_971bac84_c9e6_11eb_8016_80e82c916367row21_col1\" class=\"data row21 col1\" >116366.92</td>\n",
       "                        <td id=\"T_971bac84_c9e6_11eb_8016_80e82c916367row21_col2\" class=\"data row21 col2\" >4.54%</td>\n",
       "            </tr>\n",
       "            <tr>\n",
       "                        <th id=\"T_971bac84_c9e6_11eb_8016_80e82c916367level0_row22\" class=\"row_heading level0 row22\" >22</th>\n",
       "                        <td id=\"T_971bac84_c9e6_11eb_8016_80e82c916367row22_col0\" class=\"data row22 col0\" >110352.25</td>\n",
       "                        <td id=\"T_971bac84_c9e6_11eb_8016_80e82c916367row22_col1\" class=\"data row22 col1\" >114405.98</td>\n",
       "                        <td id=\"T_971bac84_c9e6_11eb_8016_80e82c916367row22_col2\" class=\"data row22 col2\" >3.67%</td>\n",
       "            </tr>\n",
       "            <tr>\n",
       "                        <th id=\"T_971bac84_c9e6_11eb_8016_80e82c916367level0_row23\" class=\"row_heading level0 row23\" >23</th>\n",
       "                        <td id=\"T_971bac84_c9e6_11eb_8016_80e82c916367row23_col0\" class=\"data row23 col0\" >108733.99</td>\n",
       "                        <td id=\"T_971bac84_c9e6_11eb_8016_80e82c916367row23_col1\" class=\"data row23 col1\" >110393.34</td>\n",
       "                        <td id=\"T_971bac84_c9e6_11eb_8016_80e82c916367row23_col2\" class=\"data row23 col2\" >1.53%</td>\n",
       "            </tr>\n",
       "            <tr>\n",
       "                        <th id=\"T_971bac84_c9e6_11eb_8016_80e82c916367level0_row24\" class=\"row_heading level0 row24\" >24</th>\n",
       "                        <td id=\"T_971bac84_c9e6_11eb_8016_80e82c916367row24_col0\" class=\"data row24 col0\" >108552.04</td>\n",
       "                        <td id=\"T_971bac84_c9e6_11eb_8016_80e82c916367row24_col1\" class=\"data row24 col1\" >115841.38</td>\n",
       "                        <td id=\"T_971bac84_c9e6_11eb_8016_80e82c916367row24_col2\" class=\"data row24 col2\" >6.72%</td>\n",
       "            </tr>\n",
       "            <tr>\n",
       "                        <th id=\"T_971bac84_c9e6_11eb_8016_80e82c916367level0_row25\" class=\"row_heading level0 row25\" >25</th>\n",
       "                        <td id=\"T_971bac84_c9e6_11eb_8016_80e82c916367row25_col0\" class=\"data row25 col0\" >107404.34</td>\n",
       "                        <td id=\"T_971bac84_c9e6_11eb_8016_80e82c916367row25_col1\" class=\"data row25 col1\" >104193.54</td>\n",
       "                        <td id=\"T_971bac84_c9e6_11eb_8016_80e82c916367row25_col2\" class=\"data row25 col2\" >-2.99%</td>\n",
       "            </tr>\n",
       "            <tr>\n",
       "                        <th id=\"T_971bac84_c9e6_11eb_8016_80e82c916367level0_row26\" class=\"row_heading level0 row26\" >26</th>\n",
       "                        <td id=\"T_971bac84_c9e6_11eb_8016_80e82c916367row26_col0\" class=\"data row26 col0\" >105733.54</td>\n",
       "                        <td id=\"T_971bac84_c9e6_11eb_8016_80e82c916367row26_col1\" class=\"data row26 col1\" >111099.93</td>\n",
       "                        <td id=\"T_971bac84_c9e6_11eb_8016_80e82c916367row26_col2\" class=\"data row26 col2\" >5.08%</td>\n",
       "            </tr>\n",
       "            <tr>\n",
       "                        <th id=\"T_971bac84_c9e6_11eb_8016_80e82c916367level0_row27\" class=\"row_heading level0 row27\" >27</th>\n",
       "                        <td id=\"T_971bac84_c9e6_11eb_8016_80e82c916367row27_col0\" class=\"data row27 col0\" >105008.31</td>\n",
       "                        <td id=\"T_971bac84_c9e6_11eb_8016_80e82c916367row27_col1\" class=\"data row27 col1\" >113979.29</td>\n",
       "                        <td id=\"T_971bac84_c9e6_11eb_8016_80e82c916367row27_col2\" class=\"data row27 col2\" >8.54%</td>\n",
       "            </tr>\n",
       "            <tr>\n",
       "                        <th id=\"T_971bac84_c9e6_11eb_8016_80e82c916367level0_row28\" class=\"row_heading level0 row28\" >28</th>\n",
       "                        <td id=\"T_971bac84_c9e6_11eb_8016_80e82c916367row28_col0\" class=\"data row28 col0\" >103282.38</td>\n",
       "                        <td id=\"T_971bac84_c9e6_11eb_8016_80e82c916367row28_col1\" class=\"data row28 col1\" >101104.49</td>\n",
       "                        <td id=\"T_971bac84_c9e6_11eb_8016_80e82c916367row28_col2\" class=\"data row28 col2\" >-2.11%</td>\n",
       "            </tr>\n",
       "            <tr>\n",
       "                        <th id=\"T_971bac84_c9e6_11eb_8016_80e82c916367level0_row29\" class=\"row_heading level0 row29\" >29</th>\n",
       "                        <td id=\"T_971bac84_c9e6_11eb_8016_80e82c916367row29_col0\" class=\"data row29 col0\" >101004.64</td>\n",
       "                        <td id=\"T_971bac84_c9e6_11eb_8016_80e82c916367row29_col1\" class=\"data row29 col1\" >102880.14</td>\n",
       "                        <td id=\"T_971bac84_c9e6_11eb_8016_80e82c916367row29_col2\" class=\"data row29 col2\" >1.86%</td>\n",
       "            </tr>\n",
       "            <tr>\n",
       "                        <th id=\"T_971bac84_c9e6_11eb_8016_80e82c916367level0_row30\" class=\"row_heading level0 row30\" >30</th>\n",
       "                        <td id=\"T_971bac84_c9e6_11eb_8016_80e82c916367row30_col0\" class=\"data row30 col0\" >99937.59</td>\n",
       "                        <td id=\"T_971bac84_c9e6_11eb_8016_80e82c916367row30_col1\" class=\"data row30 col1\" >101584.38</td>\n",
       "                        <td id=\"T_971bac84_c9e6_11eb_8016_80e82c916367row30_col2\" class=\"data row30 col2\" >1.65%</td>\n",
       "            </tr>\n",
       "            <tr>\n",
       "                        <th id=\"T_971bac84_c9e6_11eb_8016_80e82c916367level0_row31\" class=\"row_heading level0 row31\" >31</th>\n",
       "                        <td id=\"T_971bac84_c9e6_11eb_8016_80e82c916367row31_col0\" class=\"data row31 col0\" >97483.56</td>\n",
       "                        <td id=\"T_971bac84_c9e6_11eb_8016_80e82c916367row31_col1\" class=\"data row31 col1\" >99036.76</td>\n",
       "                        <td id=\"T_971bac84_c9e6_11eb_8016_80e82c916367row31_col2\" class=\"data row31 col2\" >1.59%</td>\n",
       "            </tr>\n",
       "            <tr>\n",
       "                        <th id=\"T_971bac84_c9e6_11eb_8016_80e82c916367level0_row32\" class=\"row_heading level0 row32\" >32</th>\n",
       "                        <td id=\"T_971bac84_c9e6_11eb_8016_80e82c916367row32_col0\" class=\"data row32 col0\" >97427.84</td>\n",
       "                        <td id=\"T_971bac84_c9e6_11eb_8016_80e82c916367row32_col1\" class=\"data row32 col1\" >102199.63</td>\n",
       "                        <td id=\"T_971bac84_c9e6_11eb_8016_80e82c916367row32_col2\" class=\"data row32 col2\" >4.90%</td>\n",
       "            </tr>\n",
       "            <tr>\n",
       "                        <th id=\"T_971bac84_c9e6_11eb_8016_80e82c916367level0_row33\" class=\"row_heading level0 row33\" >33</th>\n",
       "                        <td id=\"T_971bac84_c9e6_11eb_8016_80e82c916367row33_col0\" class=\"data row33 col0\" >96778.92</td>\n",
       "                        <td id=\"T_971bac84_c9e6_11eb_8016_80e82c916367row33_col1\" class=\"data row33 col1\" >99450.93</td>\n",
       "                        <td id=\"T_971bac84_c9e6_11eb_8016_80e82c916367row33_col2\" class=\"data row33 col2\" >2.76%</td>\n",
       "            </tr>\n",
       "            <tr>\n",
       "                        <th id=\"T_971bac84_c9e6_11eb_8016_80e82c916367level0_row34\" class=\"row_heading level0 row34\" >34</th>\n",
       "                        <td id=\"T_971bac84_c9e6_11eb_8016_80e82c916367row34_col0\" class=\"data row34 col0\" >96712.80</td>\n",
       "                        <td id=\"T_971bac84_c9e6_11eb_8016_80e82c916367row34_col1\" class=\"data row34 col1\" >89984.82</td>\n",
       "                        <td id=\"T_971bac84_c9e6_11eb_8016_80e82c916367row34_col2\" class=\"data row34 col2\" >-6.96%</td>\n",
       "            </tr>\n",
       "            <tr>\n",
       "                        <th id=\"T_971bac84_c9e6_11eb_8016_80e82c916367level0_row35\" class=\"row_heading level0 row35\" >35</th>\n",
       "                        <td id=\"T_971bac84_c9e6_11eb_8016_80e82c916367row35_col0\" class=\"data row35 col0\" >96479.51</td>\n",
       "                        <td id=\"T_971bac84_c9e6_11eb_8016_80e82c916367row35_col1\" class=\"data row35 col1\" >93413.86</td>\n",
       "                        <td id=\"T_971bac84_c9e6_11eb_8016_80e82c916367row35_col2\" class=\"data row35 col2\" >-3.18%</td>\n",
       "            </tr>\n",
       "            <tr>\n",
       "                        <th id=\"T_971bac84_c9e6_11eb_8016_80e82c916367level0_row36\" class=\"row_heading level0 row36\" >36</th>\n",
       "                        <td id=\"T_971bac84_c9e6_11eb_8016_80e82c916367row36_col0\" class=\"data row36 col0\" >90708.19</td>\n",
       "                        <td id=\"T_971bac84_c9e6_11eb_8016_80e82c916367row36_col1\" class=\"data row36 col1\" >76555.16</td>\n",
       "                        <td id=\"T_971bac84_c9e6_11eb_8016_80e82c916367row36_col2\" class=\"data row36 col2\" >-15.60%</td>\n",
       "            </tr>\n",
       "            <tr>\n",
       "                        <th id=\"T_971bac84_c9e6_11eb_8016_80e82c916367level0_row37\" class=\"row_heading level0 row37\" >37</th>\n",
       "                        <td id=\"T_971bac84_c9e6_11eb_8016_80e82c916367row37_col0\" class=\"data row37 col0\" >89949.14</td>\n",
       "                        <td id=\"T_971bac84_c9e6_11eb_8016_80e82c916367row37_col1\" class=\"data row37 col1\" >94492.41</td>\n",
       "                        <td id=\"T_971bac84_c9e6_11eb_8016_80e82c916367row37_col2\" class=\"data row37 col2\" >5.05%</td>\n",
       "            </tr>\n",
       "            <tr>\n",
       "                        <th id=\"T_971bac84_c9e6_11eb_8016_80e82c916367level0_row38\" class=\"row_heading level0 row38\" >38</th>\n",
       "                        <td id=\"T_971bac84_c9e6_11eb_8016_80e82c916367row38_col0\" class=\"data row38 col0\" >81229.06</td>\n",
       "                        <td id=\"T_971bac84_c9e6_11eb_8016_80e82c916367row38_col1\" class=\"data row38 col1\" >73900.36</td>\n",
       "                        <td id=\"T_971bac84_c9e6_11eb_8016_80e82c916367row38_col2\" class=\"data row38 col2\" >-9.02%</td>\n",
       "            </tr>\n",
       "            <tr>\n",
       "                        <th id=\"T_971bac84_c9e6_11eb_8016_80e82c916367level0_row39\" class=\"row_heading level0 row39\" >39</th>\n",
       "                        <td id=\"T_971bac84_c9e6_11eb_8016_80e82c916367row39_col0\" class=\"data row39 col0\" >81005.76</td>\n",
       "                        <td id=\"T_971bac84_c9e6_11eb_8016_80e82c916367row39_col1\" class=\"data row39 col1\" >87780.83</td>\n",
       "                        <td id=\"T_971bac84_c9e6_11eb_8016_80e82c916367row39_col2\" class=\"data row39 col2\" >8.36%</td>\n",
       "            </tr>\n",
       "            <tr>\n",
       "                        <th id=\"T_971bac84_c9e6_11eb_8016_80e82c916367level0_row40\" class=\"row_heading level0 row40\" >40</th>\n",
       "                        <td id=\"T_971bac84_c9e6_11eb_8016_80e82c916367row40_col0\" class=\"data row40 col0\" >78239.91</td>\n",
       "                        <td id=\"T_971bac84_c9e6_11eb_8016_80e82c916367row40_col1\" class=\"data row40 col1\" >77798.22</td>\n",
       "                        <td id=\"T_971bac84_c9e6_11eb_8016_80e82c916367row40_col2\" class=\"data row40 col2\" >-0.56%</td>\n",
       "            </tr>\n",
       "            <tr>\n",
       "                        <th id=\"T_971bac84_c9e6_11eb_8016_80e82c916367level0_row41\" class=\"row_heading level0 row41\" >41</th>\n",
       "                        <td id=\"T_971bac84_c9e6_11eb_8016_80e82c916367row41_col0\" class=\"data row41 col0\" >77798.83</td>\n",
       "                        <td id=\"T_971bac84_c9e6_11eb_8016_80e82c916367row41_col1\" class=\"data row41 col1\" >77922.09</td>\n",
       "                        <td id=\"T_971bac84_c9e6_11eb_8016_80e82c916367row41_col2\" class=\"data row41 col2\" >0.16%</td>\n",
       "            </tr>\n",
       "            <tr>\n",
       "                        <th id=\"T_971bac84_c9e6_11eb_8016_80e82c916367level0_row42\" class=\"row_heading level0 row42\" >42</th>\n",
       "                        <td id=\"T_971bac84_c9e6_11eb_8016_80e82c916367row42_col0\" class=\"data row42 col0\" >71498.49</td>\n",
       "                        <td id=\"T_971bac84_c9e6_11eb_8016_80e82c916367row42_col1\" class=\"data row42 col1\" >74710.20</td>\n",
       "                        <td id=\"T_971bac84_c9e6_11eb_8016_80e82c916367row42_col2\" class=\"data row42 col2\" >4.49%</td>\n",
       "            </tr>\n",
       "            <tr>\n",
       "                        <th id=\"T_971bac84_c9e6_11eb_8016_80e82c916367level0_row43\" class=\"row_heading level0 row43\" >43</th>\n",
       "                        <td id=\"T_971bac84_c9e6_11eb_8016_80e82c916367row43_col0\" class=\"data row43 col0\" >69758.98</td>\n",
       "                        <td id=\"T_971bac84_c9e6_11eb_8016_80e82c916367row43_col1\" class=\"data row43 col1\" >63675.09</td>\n",
       "                        <td id=\"T_971bac84_c9e6_11eb_8016_80e82c916367row43_col2\" class=\"data row43 col2\" >-8.72%</td>\n",
       "            </tr>\n",
       "            <tr>\n",
       "                        <th id=\"T_971bac84_c9e6_11eb_8016_80e82c916367level0_row44\" class=\"row_heading level0 row44\" >44</th>\n",
       "                        <td id=\"T_971bac84_c9e6_11eb_8016_80e82c916367row44_col0\" class=\"data row44 col0\" >65200.33</td>\n",
       "                        <td id=\"T_971bac84_c9e6_11eb_8016_80e82c916367row44_col1\" class=\"data row44 col1\" >67770.36</td>\n",
       "                        <td id=\"T_971bac84_c9e6_11eb_8016_80e82c916367row44_col2\" class=\"data row44 col2\" >3.94%</td>\n",
       "            </tr>\n",
       "            <tr>\n",
       "                        <th id=\"T_971bac84_c9e6_11eb_8016_80e82c916367level0_row45\" class=\"row_heading level0 row45\" >45</th>\n",
       "                        <td id=\"T_971bac84_c9e6_11eb_8016_80e82c916367row45_col0\" class=\"data row45 col0\" >64926.08</td>\n",
       "                        <td id=\"T_971bac84_c9e6_11eb_8016_80e82c916367row45_col1\" class=\"data row45 col1\" >51832.13</td>\n",
       "                        <td id=\"T_971bac84_c9e6_11eb_8016_80e82c916367row45_col2\" class=\"data row45 col2\" >-20.17%</td>\n",
       "            </tr>\n",
       "            <tr>\n",
       "                        <th id=\"T_971bac84_c9e6_11eb_8016_80e82c916367level0_row46\" class=\"row_heading level0 row46\" >46</th>\n",
       "                        <td id=\"T_971bac84_c9e6_11eb_8016_80e82c916367row46_col0\" class=\"data row46 col0\" >49490.75</td>\n",
       "                        <td id=\"T_971bac84_c9e6_11eb_8016_80e82c916367row46_col1\" class=\"data row46 col1\" >57401.56</td>\n",
       "                        <td id=\"T_971bac84_c9e6_11eb_8016_80e82c916367row46_col2\" class=\"data row46 col2\" >15.98%</td>\n",
       "            </tr>\n",
       "            <tr>\n",
       "                        <th id=\"T_971bac84_c9e6_11eb_8016_80e82c916367level0_row47\" class=\"row_heading level0 row47\" >47</th>\n",
       "                        <td id=\"T_971bac84_c9e6_11eb_8016_80e82c916367row47_col0\" class=\"data row47 col0\" >42559.73</td>\n",
       "                        <td id=\"T_971bac84_c9e6_11eb_8016_80e82c916367row47_col1\" class=\"data row47 col1\" >50974.30</td>\n",
       "                        <td id=\"T_971bac84_c9e6_11eb_8016_80e82c916367row47_col2\" class=\"data row47 col2\" >19.77%</td>\n",
       "            </tr>\n",
       "    </tbody></table>"
      ],
      "text/plain": [
       "<pandas.io.formats.style.Styler at 0x1c369b8e3a0>"
      ]
     },
     "execution_count": 67,
     "metadata": {},
     "output_type": "execute_result"
    }
   ],
   "source": [
    "result.style.format({'Profit': \"{:.2f}\",'Predict_Profit': \"{:.2f}\",'Error': \"{:.2%}\"})"
   ]
  },
  {
   "cell_type": "code",
   "execution_count": null,
   "metadata": {},
   "outputs": [],
   "source": []
  },
  {
   "cell_type": "code",
   "execution_count": 68,
   "metadata": {},
   "outputs": [
    {
     "data": {
      "text/plain": [
       "0.004337744560180249"
      ]
     },
     "execution_count": 68,
     "metadata": {},
     "output_type": "execute_result"
    }
   ],
   "source": [
    "result.Error.mean()"
   ]
  },
  {
   "cell_type": "code",
   "execution_count": null,
   "metadata": {},
   "outputs": [],
   "source": []
  },
  {
   "cell_type": "code",
   "execution_count": 69,
   "metadata": {},
   "outputs": [],
   "source": [
    "# Since the mean of all the error values is close to 0, hence we can say regression equation for forecasting is working well."
   ]
  },
  {
   "cell_type": "code",
   "execution_count": null,
   "metadata": {},
   "outputs": [],
   "source": []
  }
 ],
 "metadata": {
  "kernelspec": {
   "display_name": "Python 3",
   "language": "python",
   "name": "python3"
  },
  "language_info": {
   "codemirror_mode": {
    "name": "ipython",
    "version": 3
   },
   "file_extension": ".py",
   "mimetype": "text/x-python",
   "name": "python",
   "nbconvert_exporter": "python",
   "pygments_lexer": "ipython3",
   "version": "3.8.3"
  }
 },
 "nbformat": 4,
 "nbformat_minor": 4
}
